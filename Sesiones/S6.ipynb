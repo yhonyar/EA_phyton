{
 "cells": [
  {
   "cell_type": "markdown",
   "id": "34cb7286",
   "metadata": {},
   "source": [
    "# Sesión 6 Introducción a ETL\n",
    "\n",
    "+ Extraer\n",
    "+ Transformar\n",
    "+ Cargar"
   ]
  },
  {
   "cell_type": "markdown",
   "id": "3553239b",
   "metadata": {},
   "source": [
    "## Parte 1"
   ]
  },
  {
   "cell_type": "code",
   "execution_count": null,
   "id": "f42a70fd",
   "metadata": {},
   "outputs": [],
   "source": [
    "import pandas as pd\n",
    "import numpy as np"
   ]
  },
  {
   "cell_type": "code",
   "execution_count": null,
   "id": "908f6943",
   "metadata": {},
   "outputs": [],
   "source": [
    "def extraer_de_csv(archivo_procesar):\n",
    "    df = pd.read_csv(archivo_procesar)\n",
    "    return df"
   ]
  },
  {
   "cell_type": "code",
   "execution_count": null,
   "id": "7ecd16cc",
   "metadata": {},
   "outputs": [],
   "source": [
    "def extraer_de_json(archivo_procesar):\n",
    "    df = pd.read_json(archivo_procesar, lines = True)\n",
    "    return df"
   ]
  },
  {
   "cell_type": "code",
   "execution_count": null,
   "id": "7851775c",
   "metadata": {},
   "outputs": [],
   "source": [
    "import xml.etree.ElementTree as et\n",
    "import glob"
   ]
  },
  {
   "cell_type": "code",
   "execution_count": null,
   "id": "d536d561",
   "metadata": {},
   "outputs": [],
   "source": [
    "def extraer_de_xml(archivo_procesar):\n",
    "    xtree = et.parse(archivo_procesar)\n",
    "    xroot = xtree.getroot()\n",
    "    df = pd.DataFrame(columns = ['nombre','ventas1','ventas'])\n",
    "    for persona in xroot:\n",
    "        nombre = persona.find('nombre').text\n",
    "        ventas1 = float(persona.find('ventas1').text)\n",
    "        ventas = float(persona.find('ventas').text)\n",
    "        df = df.append({'nombre':nombre,'ventas1':ventas1,'ventas':ventas}, ignore_index = True)\n",
    "    return df"
   ]
  },
  {
   "cell_type": "code",
   "execution_count": null,
   "id": "7a96f1eb",
   "metadata": {},
   "outputs": [],
   "source": [
    "def extraer():\n",
    "    extraer_dato = pd.DataFrame(columns = ['nombre','ventas1','ventas'])\n",
    "    \n",
    "    for a_csv in glob.glob('./Archives/*.csv'):\n",
    "        print(a_csv)\n",
    "        extraer_dato = extraer_dato.append(extraer_de_csv(a_csv), ignore_index = True)\n",
    "        \n",
    "    for a_json in glob.glob('./Archives/*.json'):\n",
    "        print(a_json)\n",
    "        extraer_dato = extraer_dato.append(extraer_de_json(a_json), ignore_index = True)\n",
    "        \n",
    "    for a_xml in glob.glob('./Archives/*.xml'):\n",
    "        print(a_xml)\n",
    "        extraer_dato = extraer_dato.append(extraer_de_xml(a_xml), ignore_index = True)\n",
    "    return extraer_dato"
   ]
  },
  {
   "cell_type": "markdown",
   "id": "92c2c5f5",
   "metadata": {},
   "source": [
    "## Parte 2"
   ]
  },
  {
   "cell_type": "markdown",
   "id": "5a84c76c",
   "metadata": {},
   "source": [
    "## Transformar"
   ]
  },
  {
   "cell_type": "code",
   "execution_count": null,
   "id": "38732ac9",
   "metadata": {},
   "outputs": [],
   "source": [
    "def transform(data):\n",
    "    #Cambiamos de moneda\n",
    "    data['ventas1'] = round(data.ventas1 * 3.98,2)\n",
    "    data['ventas'] = round(data.ventas * 3.98,2)\n",
    "    \n",
    "    #Unimos los mismos nombres\n",
    "    data1 = data.groupby(\"nombre\").ventas1.sum()\n",
    "    data2 = data.groupby(\"nombre\").ventas.sum()\n",
    "    data_new = {\"ventas1\": data1, \"ventas\": data2} \n",
    "    data_new2 = pd.concat(data_new, axis = 1) \n",
    "    \n",
    "    #Sumamos las columnas ventas1 y ventas en una nueva columna\n",
    "    data_new2['suma'] = data_new2[['ventas1','ventas']].astype(float).sum(axis=1)\n",
    "    return data_new2"
   ]
  },
  {
   "cell_type": "code",
   "execution_count": null,
   "id": "137858ee",
   "metadata": {},
   "outputs": [],
   "source": [
    "import sqlalchemy  "
   ]
  },
  {
   "cell_type": "code",
   "execution_count": null,
   "id": "a24a7513",
   "metadata": {},
   "outputs": [],
   "source": [
    "def load(df):\n",
    "    username = 'root'\n",
    "    hostname = 'localhost'\n",
    "    database = 'datawarehouse'\n",
    "    port     = '3306'\n",
    "    password = 'CONO_ETL_02'\n",
    "    con = sqlalchemy.create_engine('mysql+mysqlconnector://{0}:{1}@{2}/{3}'.\n",
    "                                               format(username, password, \n",
    "                                                      hostname, database))\n",
    "    \n",
    "    df['id'] = 0\n",
    "    df.to_sql(con=con, name='ventas_final', if_exists='append')"
   ]
  },
  {
   "cell_type": "code",
   "execution_count": null,
   "id": "0585d9fc",
   "metadata": {},
   "outputs": [],
   "source": [
    "from datetime import datetime"
   ]
  },
  {
   "cell_type": "code",
   "execution_count": null,
   "id": "4c5809df",
   "metadata": {},
   "outputs": [],
   "source": [
    "now = datetime.now() \n",
    "print('Proceso Comienza',now)\n",
    "extracted_data = extraer()\n",
    "transformed_data = transform(extracted_data)\n",
    "load(transformed_data)\n",
    "now = datetime.now() \n",
    "print('Proceso Finaliza',now)"
   ]
  }
 ],
 "metadata": {
  "kernelspec": {
   "display_name": "Python 3 (ipykernel)",
   "language": "python",
   "name": "python3"
  },
  "language_info": {
   "codemirror_mode": {
    "name": "ipython",
    "version": 3
   },
   "file_extension": ".py",
   "mimetype": "text/x-python",
   "name": "python",
   "nbconvert_exporter": "python",
   "pygments_lexer": "ipython3",
   "version": "3.9.12"
  }
 },
 "nbformat": 4,
 "nbformat_minor": 5
}
