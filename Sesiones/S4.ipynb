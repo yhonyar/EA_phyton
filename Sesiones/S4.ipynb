{
 "cells": [
  {
   "cell_type": "markdown",
   "id": "d46afa50",
   "metadata": {},
   "source": [
    "# Sesión 4 - Fundamentos de Python\n",
    "\n",
    "Martes 25/10/2022"
   ]
  },
  {
   "cell_type": "markdown",
   "id": "57e9d00f",
   "metadata": {},
   "source": [
    "### Enlaces de consulta\n",
    "\n",
    "1. [Tutorial de Python](https://docs.python.org/es/3/tutorial/)\n",
    "2. [Tutorial de Python](https://aprendeconalf.es/docencia/python/manual/introduccion-python/)\n",
    "3. [1ra opción de Numpy](https://python-course.eu/numerical-programming/introduction-to-numpy.php)\n",
    "4. [2da opción de Numpy](https://numpy.org/doc/stable/user/index.html)\n",
    "5. [Pandas](https://pandas.pydata.org/docs/user_guide/index.html)\n",
    "\n",
    "### Contenido\n",
    "\n",
    "* [Funciones](#funciones)\n",
    "* [Librería Numpy](#numpy)\n",
    "* [Librería Pandas](#pandas)\n",
    "\n",
    "### Objetivo de la sesión\n",
    "- Conocer el significado de una función y el uso de librerias"
   ]
  },
  {
   "cell_type": "markdown",
   "id": "28e1dbd7",
   "metadata": {},
   "source": [
    "<a id=\"funciones\"></a>\n",
    "## Funciones\n",
    "\n",
    "### Funciones integradas\n",
    "\n",
    "Python tiene una serie de funciones y tipos incluidos en él que están siempre disponibles.\n",
    "![image info](./Figure/f1.png)\n",
    "\n",
    "[Para más detalle aquí](https://docs.python.org/es/3.8/library/functions.html)"
   ]
  },
  {
   "cell_type": "code",
   "execution_count": null,
   "id": "066e39df",
   "metadata": {},
   "outputs": [],
   "source": [
    "nombre = 'Maria'\n",
    "if nombre == 'Maria':\n",
    "    print('Bienvenida Maria')\n",
    "else:\n",
    "    print('Bienvenida a todos')"
   ]
  },
  {
   "cell_type": "markdown",
   "id": "55f4d4f4",
   "metadata": {},
   "source": [
    "**Librerias de Python**\n",
    "\n",
    "![Librerias](./Figure/lib.png)\n",
    "\n",
    "Imagen tomada de: https://www.actumlogos.com/python-para-ia.html\n",
    "\n",
    "Librería [**math**](https://docs.python.org/es/3/library/math.html)"
   ]
  },
  {
   "cell_type": "code",
   "execution_count": null,
   "id": "0a5f642a",
   "metadata": {},
   "outputs": [],
   "source": [
    "import math as mt\n",
    "\n",
    "print(mt.fsum([4,5]))\n",
    "print(mt.sqrt(9))"
   ]
  },
  {
   "cell_type": "code",
   "execution_count": null,
   "id": "2d9ca550",
   "metadata": {},
   "outputs": [],
   "source": [
    "mt.factorial(4)"
   ]
  },
  {
   "cell_type": "code",
   "execution_count": null,
   "id": "8279a7f2",
   "metadata": {},
   "outputs": [],
   "source": [
    "mt.pi"
   ]
  },
  {
   "cell_type": "code",
   "execution_count": null,
   "id": "f0c7d27e",
   "metadata": {},
   "outputs": [],
   "source": [
    "mt.sqrt(85)"
   ]
  },
  {
   "cell_type": "code",
   "execution_count": null,
   "id": "e48652d3",
   "metadata": {},
   "outputs": [],
   "source": [
    "mt.floor(4.22)"
   ]
  },
  {
   "cell_type": "code",
   "execution_count": null,
   "id": "734e912d",
   "metadata": {},
   "outputs": [],
   "source": [
    "mt.ceil(4.22)"
   ]
  },
  {
   "cell_type": "markdown",
   "id": "075c2445",
   "metadata": {},
   "source": [
    "**Inportante!** se puede preguntar a Python por ayuda con la función **help(nombre de la librería)**"
   ]
  },
  {
   "cell_type": "markdown",
   "id": "1de0b7fd",
   "metadata": {},
   "source": [
    "### Definir una funciones \n",
    "El concepto de función es básico en prácticamente cualquier lenguaje de programación. Se trata de una estructura que nos permite agrupar código. Persigue dos objetivos claros: \n",
    "1. **No repetir** trozos de código durante nuestro programa. \n",
    "2. **Reutilizar** el código para distintas situaciones.\n",
    "![image info](./Figure/funcion.png)"
   ]
  },
  {
   "cell_type": "code",
   "execution_count": null,
   "id": "a8a89806",
   "metadata": {},
   "outputs": [],
   "source": [
    "def hola():\n",
    "    print('Hola mundo')"
   ]
  },
  {
   "cell_type": "code",
   "execution_count": null,
   "id": "2b1e815a",
   "metadata": {},
   "outputs": [],
   "source": [
    "hola()"
   ]
  },
  {
   "cell_type": "code",
   "execution_count": null,
   "id": "bead031f",
   "metadata": {},
   "outputs": [],
   "source": [
    "def string(a):\n",
    "    print(a)"
   ]
  },
  {
   "cell_type": "code",
   "execution_count": null,
   "id": "4f643810",
   "metadata": {},
   "outputs": [],
   "source": [
    "string('Es un estring')"
   ]
  },
  {
   "cell_type": "code",
   "execution_count": null,
   "id": "aa05b1f3",
   "metadata": {},
   "outputs": [],
   "source": [
    "y = 54\n",
    "string(y)"
   ]
  },
  {
   "cell_type": "code",
   "execution_count": null,
   "id": "f94fd4cf",
   "metadata": {},
   "outputs": [],
   "source": [
    "def suma(num1, num2):\n",
    "    print(num1 + num2)"
   ]
  },
  {
   "cell_type": "code",
   "execution_count": null,
   "id": "f1d3ed17",
   "metadata": {},
   "outputs": [],
   "source": [
    "suma(5,10)"
   ]
  },
  {
   "cell_type": "code",
   "execution_count": null,
   "id": "f67e7637",
   "metadata": {},
   "outputs": [],
   "source": [
    "suma('Ho','la')"
   ]
  },
  {
   "cell_type": "code",
   "execution_count": null,
   "id": "91a1719e",
   "metadata": {},
   "outputs": [],
   "source": [
    "def suma1(a,b):\n",
    "    return(a + b)"
   ]
  },
  {
   "cell_type": "code",
   "execution_count": null,
   "id": "82173124",
   "metadata": {},
   "outputs": [],
   "source": [
    "suma1(7, 10)"
   ]
  },
  {
   "cell_type": "code",
   "execution_count": null,
   "id": "8051fce6",
   "metadata": {},
   "outputs": [],
   "source": [
    "def s_p_e(v1, v2):\n",
    "    s = v1 + v2\n",
    "    p = v1 * v2\n",
    "    e = v1 ** v2\n",
    "    return(s, p, e)"
   ]
  },
  {
   "cell_type": "code",
   "execution_count": null,
   "id": "deb7926e",
   "metadata": {},
   "outputs": [],
   "source": [
    "s_p_e(4,5)"
   ]
  },
  {
   "cell_type": "code",
   "execution_count": null,
   "id": "a36548d1",
   "metadata": {},
   "outputs": [],
   "source": [
    "suma2, producto, exponente = s_p_e(2, 5)"
   ]
  },
  {
   "cell_type": "code",
   "execution_count": null,
   "id": "35a557cd",
   "metadata": {},
   "outputs": [],
   "source": [
    "suma2"
   ]
  },
  {
   "cell_type": "code",
   "execution_count": null,
   "id": "ffbfd6b1",
   "metadata": {},
   "outputs": [],
   "source": [
    "producto"
   ]
  },
  {
   "cell_type": "markdown",
   "id": "f577b6ee",
   "metadata": {},
   "source": [
    "Generar archivo"
   ]
  },
  {
   "cell_type": "markdown",
   "id": "7c53b8e3",
   "metadata": {},
   "source": [
    "![Función](./Figure/fun.png)"
   ]
  },
  {
   "cell_type": "code",
   "execution_count": 1,
   "id": "788aa405",
   "metadata": {},
   "outputs": [],
   "source": [
    "import pandas as pd"
   ]
  },
  {
   "cell_type": "code",
   "execution_count": null,
   "id": "817aaee7",
   "metadata": {},
   "outputs": [],
   "source": [
    "def generar_archivo_txt(lista, nombre):\n",
    "    nombreArchivo = nombre + '.csv'\n",
    "    archivo = pd.DataFrame(lista)\n",
    "    archivo.to_csv('./Archives/'+ nombreArchivo, encoding = 'utf-8')\n",
    "    return nombreArchivo"
   ]
  },
  {
   "cell_type": "code",
   "execution_count": null,
   "id": "6e0d4259",
   "metadata": {},
   "outputs": [],
   "source": [
    "print(generar_archivo_txt([[1, 2, 3],[2, 4, 8],[7, 8, 9]],'numeros'))"
   ]
  },
  {
   "cell_type": "code",
   "execution_count": null,
   "id": "91d99e9d",
   "metadata": {},
   "outputs": [],
   "source": [
    "l = './Archives/numeros.csv'"
   ]
  },
  {
   "cell_type": "code",
   "execution_count": null,
   "id": "ecd6cada",
   "metadata": {},
   "outputs": [],
   "source": [
    "df = pd.read_csv(l, skipfooter=0, index_col=[0])"
   ]
  },
  {
   "cell_type": "code",
   "execution_count": null,
   "id": "015796fa",
   "metadata": {},
   "outputs": [],
   "source": [
    "df"
   ]
  },
  {
   "cell_type": "code",
   "execution_count": null,
   "id": "6bc673a2",
   "metadata": {},
   "outputs": [],
   "source": [
    "def generar_archivo_txt1(lista, nombre, columnas = ['Valor1', 'Valor2', 'Valor3']):\n",
    "    nombreArchivo = nombre + '.csv'\n",
    "    archivo = pd.DataFrame(lista, columns = columnas)\n",
    "    archivo.to_csv('./Archives/' + nombreArchivo, encoding = 'utf-8')\n",
    "    total_filas = len (archivo)\n",
    "    return nombreArchivo, total_filas"
   ]
  },
  {
   "cell_type": "code",
   "execution_count": null,
   "id": "be3ca0ac",
   "metadata": {},
   "outputs": [],
   "source": [
    "lista2 = [[1, 2, 3],[2, 4, 8],[7, 8, 9]]\n",
    "nombreArchivo, total_filas = generar_archivo_txt1(lista2,'Nueva_l2', ['1ro','2do','3ro'])\n",
    "print(nombreArchivo)"
   ]
  },
  {
   "cell_type": "code",
   "execution_count": null,
   "id": "1f759b34",
   "metadata": {},
   "outputs": [],
   "source": [
    "df2 = pd.read_csv('./Archives/Nueva_l2.csv', skipfooter=0, index_col=[0])"
   ]
  },
  {
   "cell_type": "code",
   "execution_count": null,
   "id": "04e2901c",
   "metadata": {},
   "outputs": [],
   "source": [
    "df2"
   ]
  },
  {
   "cell_type": "markdown",
   "id": "8368e398",
   "metadata": {},
   "source": [
    "**Funciones recursivas**"
   ]
  },
  {
   "cell_type": "code",
   "execution_count": null,
   "id": "0eba2bc3",
   "metadata": {},
   "outputs": [],
   "source": [
    "def jugar(intento = 1): \n",
    "    respuesta = input('¿De qué color es una naranja? ') \n",
    "    if respuesta != \"naranja\": \n",
    "        if intento < 3: \n",
    "            print('Fallaste! Inténtalo de nuevo')\n",
    "            intento += 1 \n",
    "            jugar(intento) # Llamada recursiva \n",
    "        else: \n",
    "            print('Perdiste!')\n",
    "    else:\n",
    "        print('Ganaste!') "
   ]
  },
  {
   "cell_type": "code",
   "execution_count": null,
   "id": "0aa374d0",
   "metadata": {},
   "outputs": [],
   "source": [
    "jugar()"
   ]
  },
  {
   "cell_type": "code",
   "execution_count": null,
   "id": "bfe312d6",
   "metadata": {},
   "outputs": [],
   "source": [
    "def cuenta_atras(num):\n",
    "    num -= 1\n",
    "    if num > 0:\n",
    "        print(num)\n",
    "        cuenta_atras(num)\n",
    "    else:\n",
    "        print(\"Boooooooom!\")\n",
    "    print(\"Fin de la función\", num)"
   ]
  },
  {
   "cell_type": "code",
   "execution_count": null,
   "id": "ff9d81b1",
   "metadata": {},
   "outputs": [],
   "source": [
    "cuenta_atras(5)"
   ]
  },
  {
   "cell_type": "code",
   "execution_count": 6,
   "id": "b01665b6",
   "metadata": {},
   "outputs": [],
   "source": [
    "def factorial(numero):\n",
    "    if numero == 0:\n",
    "        return 1\n",
    "    total = numero * factorial(numero-1)\n",
    "    return total"
   ]
  },
  {
   "cell_type": "code",
   "execution_count": 7,
   "id": "0c03d217",
   "metadata": {},
   "outputs": [
    {
     "data": {
      "text/plain": [
       "120"
      ]
     },
     "execution_count": 7,
     "metadata": {},
     "output_type": "execute_result"
    }
   ],
   "source": [
    "factorial(5)"
   ]
  },
  {
   "cell_type": "markdown",
   "id": "58cfba61",
   "metadata": {},
   "source": [
    "<a id=\"numpy\"></a>\n",
    "## Numpy"
   ]
  },
  {
   "cell_type": "markdown",
   "id": "e0105a04",
   "metadata": {},
   "source": [
    "`Numpy` es una libreria que permite el manejo eficiente de **tensores**, es decir, arreglos multidimensionales.\n",
    "\n",
    "Para instalar escriva el siguiente comando: **!pip install numpy**"
   ]
  },
  {
   "cell_type": "code",
   "execution_count": 1,
   "id": "05642387",
   "metadata": {},
   "outputs": [],
   "source": [
    "import numpy as np"
   ]
  },
  {
   "cell_type": "markdown",
   "id": "fb6200ec",
   "metadata": {},
   "source": [
    "#### Creación de matrices Numpy\n",
    "\n",
    "Hay varias formas de inicializar nuevas matrices Numpy, por ejemplo, desde\n",
    "\n",
    "* conversión de listas o tuplas de Python\n",
    "* usar funciones dedicadas a generar matrices numpy, como `arange`, `linspace`, etc.\n",
    "* lectura de datos de archivos\n",
    "\n",
    "##### De las listas\n",
    "\n",
    "Por ejemplo, para crear nuevas matrices de vectores y matrices a partir de las listas de Python, podemos usar la función `numpy.array`"
   ]
  },
  {
   "cell_type": "code",
   "execution_count": 5,
   "id": "d2d22994",
   "metadata": {
    "scrolled": true
   },
   "outputs": [
    {
     "data": {
      "text/plain": [
       "array([1, 2, 3, 4, 5])"
      ]
     },
     "execution_count": 5,
     "metadata": {},
     "output_type": "execute_result"
    }
   ],
   "source": [
    "lista = [1, 2, 3, 4, 5]\n",
    "v_a = np.array(lista)\n",
    "v_a"
   ]
  },
  {
   "cell_type": "code",
   "execution_count": 11,
   "id": "7501bf6f",
   "metadata": {},
   "outputs": [
    {
     "data": {
      "text/plain": [
       "array([1, 2, 3, 4, 5])"
      ]
     },
     "execution_count": 11,
     "metadata": {},
     "output_type": "execute_result"
    }
   ],
   "source": [
    "v_b = np.array([1, 2, 3, 4, 5])\n",
    "v_b"
   ]
  },
  {
   "cell_type": "code",
   "execution_count": 12,
   "id": "055fb546",
   "metadata": {},
   "outputs": [
    {
     "name": "stdout",
     "output_type": "stream",
     "text": [
      "int32\n"
     ]
    }
   ],
   "source": [
    "print(v_a.dtype)"
   ]
  },
  {
   "cell_type": "code",
   "execution_count": 13,
   "id": "6fc9d06a",
   "metadata": {},
   "outputs": [
    {
     "data": {
      "text/plain": [
       "array([[1, 2],\n",
       "       [3, 4]])"
      ]
     },
     "execution_count": 13,
     "metadata": {},
     "output_type": "execute_result"
    }
   ],
   "source": [
    "M = np.array([[1, 2], [3, 4]])\n",
    "M"
   ]
  },
  {
   "cell_type": "code",
   "execution_count": 14,
   "id": "03553488",
   "metadata": {},
   "outputs": [
    {
     "data": {
      "text/plain": [
       "(numpy.ndarray, numpy.ndarray)"
      ]
     },
     "execution_count": 14,
     "metadata": {},
     "output_type": "execute_result"
    }
   ],
   "source": [
    "type(v_a), type(M)"
   ]
  },
  {
   "cell_type": "markdown",
   "id": "18684625",
   "metadata": {},
   "source": [
    "La diferencia entre las matrices `v_a` y `M` son solo sus formas. Podemos obtener información sobre la forma de una matriz usando la propiedad `ndarray.shape`."
   ]
  },
  {
   "cell_type": "code",
   "execution_count": 15,
   "id": "6e2d48a7",
   "metadata": {},
   "outputs": [
    {
     "data": {
      "text/plain": [
       "(5,)"
      ]
     },
     "execution_count": 15,
     "metadata": {},
     "output_type": "execute_result"
    }
   ],
   "source": [
    "v_a.shape"
   ]
  },
  {
   "cell_type": "code",
   "execution_count": 16,
   "id": "462a9764",
   "metadata": {},
   "outputs": [
    {
     "data": {
      "text/plain": [
       "(2, 2)"
      ]
     },
     "execution_count": 16,
     "metadata": {},
     "output_type": "execute_result"
    }
   ],
   "source": [
    "M.shape"
   ]
  },
  {
   "cell_type": "markdown",
   "id": "e1855a99",
   "metadata": {},
   "source": [
    "El número de elementos en la matriz está disponible a través de la propiedad `ndarray.size`:"
   ]
  },
  {
   "cell_type": "code",
   "execution_count": 17,
   "id": "12338ff8",
   "metadata": {},
   "outputs": [
    {
     "data": {
      "text/plain": [
       "4"
      ]
     },
     "execution_count": 17,
     "metadata": {},
     "output_type": "execute_result"
    }
   ],
   "source": [
    "M.size"
   ]
  },
  {
   "cell_type": "code",
   "execution_count": 19,
   "id": "505b3203",
   "metadata": {},
   "outputs": [],
   "source": [
    "a = np.array([[0.0,0.0,0.0],[10.0,10.0,10.0],[20.0,20.0,20.0],[30.0,30.0,30.0]])\n",
    "b = np.array([0.0,1.0,2.0])"
   ]
  },
  {
   "cell_type": "code",
   "execution_count": 20,
   "id": "30acc9e3",
   "metadata": {},
   "outputs": [
    {
     "data": {
      "text/plain": [
       "array([[ 0.,  0.,  0.],\n",
       "       [10., 10., 10.],\n",
       "       [20., 20., 20.],\n",
       "       [30., 30., 30.]])"
      ]
     },
     "execution_count": 20,
     "metadata": {},
     "output_type": "execute_result"
    }
   ],
   "source": [
    "a"
   ]
  },
  {
   "cell_type": "code",
   "execution_count": 21,
   "id": "ada7e01b",
   "metadata": {},
   "outputs": [
    {
     "data": {
      "text/plain": [
       "array([0., 1., 2.])"
      ]
     },
     "execution_count": 21,
     "metadata": {},
     "output_type": "execute_result"
    }
   ],
   "source": [
    "b"
   ]
  },
  {
   "cell_type": "code",
   "execution_count": 22,
   "id": "2c8f7119",
   "metadata": {},
   "outputs": [
    {
     "data": {
      "text/plain": [
       "array([[ 0.,  1.,  2.],\n",
       "       [10., 11., 12.],\n",
       "       [20., 21., 22.],\n",
       "       [30., 31., 32.]])"
      ]
     },
     "execution_count": 22,
     "metadata": {},
     "output_type": "execute_result"
    }
   ],
   "source": [
    "a + b"
   ]
  },
  {
   "cell_type": "code",
   "execution_count": 23,
   "id": "c59c6f02",
   "metadata": {},
   "outputs": [
    {
     "name": "stdout",
     "output_type": "stream",
     "text": [
      "[1.+0.j 2.+0.j 3.+0.j 4.+0.j 5.+0.j]\n"
     ]
    }
   ],
   "source": [
    "lista= [1,2,3,4,5]\n",
    "a_complejo = np.array(lista, dtype = complex)\n",
    "print(a_complejo)"
   ]
  },
  {
   "cell_type": "code",
   "execution_count": 24,
   "id": "b464c7d0",
   "metadata": {},
   "outputs": [
    {
     "name": "stdout",
     "output_type": "stream",
     "text": [
      "[[0 1 2]\n",
      " [3 4 5]]\n"
     ]
    }
   ],
   "source": [
    "c = np.array([[0,1,2],[3,4,5]])\n",
    "print(c)"
   ]
  },
  {
   "cell_type": "code",
   "execution_count": 25,
   "id": "f4fb9404",
   "metadata": {},
   "outputs": [
    {
     "data": {
      "text/plain": [
       "2"
      ]
     },
     "execution_count": 25,
     "metadata": {},
     "output_type": "execute_result"
    }
   ],
   "source": [
    "c.ndim"
   ]
  },
  {
   "cell_type": "code",
   "execution_count": 26,
   "id": "d81ab8c8",
   "metadata": {},
   "outputs": [
    {
     "data": {
      "text/plain": [
       "(2, 3)"
      ]
     },
     "execution_count": 26,
     "metadata": {},
     "output_type": "execute_result"
    }
   ],
   "source": [
    "c.shape"
   ]
  },
  {
   "cell_type": "code",
   "execution_count": 27,
   "id": "93b7553b",
   "metadata": {},
   "outputs": [],
   "source": [
    "a = np.array([[0,1,2,3,4,5],[10,11,12,13,14,15],[20,21,22,23,24,25],[30,31,32,33,34,35],[40,41,42,43,44,45],[50,51,52,53,54,55]])"
   ]
  },
  {
   "cell_type": "code",
   "execution_count": 28,
   "id": "28b57a8f",
   "metadata": {},
   "outputs": [
    {
     "data": {
      "text/plain": [
       "array([[ 0,  1,  2,  3,  4,  5],\n",
       "       [10, 11, 12, 13, 14, 15],\n",
       "       [20, 21, 22, 23, 24, 25],\n",
       "       [30, 31, 32, 33, 34, 35],\n",
       "       [40, 41, 42, 43, 44, 45],\n",
       "       [50, 51, 52, 53, 54, 55]])"
      ]
     },
     "execution_count": 28,
     "metadata": {},
     "output_type": "execute_result"
    }
   ],
   "source": [
    "a"
   ]
  },
  {
   "cell_type": "code",
   "execution_count": 29,
   "id": "c20b002f",
   "metadata": {},
   "outputs": [
    {
     "data": {
      "text/plain": [
       "array([10, 11, 12, 13, 14, 15])"
      ]
     },
     "execution_count": 29,
     "metadata": {},
     "output_type": "execute_result"
    }
   ],
   "source": [
    "a[1]"
   ]
  },
  {
   "cell_type": "code",
   "execution_count": 30,
   "id": "9e389d55",
   "metadata": {},
   "outputs": [
    {
     "data": {
      "text/plain": [
       "array([10, 11, 12, 13, 14, 15])"
      ]
     },
     "execution_count": 30,
     "metadata": {},
     "output_type": "execute_result"
    }
   ],
   "source": [
    "a[1,:]"
   ]
  },
  {
   "cell_type": "code",
   "execution_count": 31,
   "id": "317b59d2",
   "metadata": {},
   "outputs": [
    {
     "data": {
      "text/plain": [
       "array([[44, 45],\n",
       "       [54, 55]])"
      ]
     },
     "execution_count": 31,
     "metadata": {},
     "output_type": "execute_result"
    }
   ],
   "source": [
    "a[4:,4:]"
   ]
  },
  {
   "cell_type": "code",
   "execution_count": 32,
   "id": "1608e0fb",
   "metadata": {},
   "outputs": [
    {
     "data": {
      "text/plain": [
       "array([ 2, 12, 22, 32, 42, 52])"
      ]
     },
     "execution_count": 32,
     "metadata": {},
     "output_type": "execute_result"
    }
   ],
   "source": [
    "a[:,2]"
   ]
  },
  {
   "cell_type": "code",
   "execution_count": 33,
   "id": "6218433b",
   "metadata": {},
   "outputs": [
    {
     "data": {
      "text/plain": [
       "array([3, 4])"
      ]
     },
     "execution_count": 33,
     "metadata": {},
     "output_type": "execute_result"
    }
   ],
   "source": [
    "a[0,3:5]"
   ]
  },
  {
   "cell_type": "code",
   "execution_count": 34,
   "id": "30aaedfc",
   "metadata": {},
   "outputs": [
    {
     "data": {
      "text/plain": [
       "array([[20, 22, 24],\n",
       "       [40, 42, 44]])"
      ]
     },
     "execution_count": 34,
     "metadata": {},
     "output_type": "execute_result"
    }
   ],
   "source": [
    "a[2::2,::2]"
   ]
  },
  {
   "cell_type": "markdown",
   "id": "e07db35f",
   "metadata": {},
   "source": [
    "<a id=\"pandas\"></a>\n",
    "## Pandas"
   ]
  },
  {
   "cell_type": "markdown",
   "id": "43426c5f",
   "metadata": {},
   "source": [
    "#### ¿Qué es Pandas?\n",
    "\n",
    "Pandas es una biblioteca de software escrita para el lenguaje de programación Python para la manipulación y el análisis de datos. En particular, ofrece estructuras de datos y operaciones para manipular tablas numéricas y series de tiempo.\n",
    "\n",
    "#### Características de la biblioteca\n",
    "\n",
    "* Objeto DataFrame para manipulación de datos con indexación integrada\n",
    "* Herramientas para leer y escribir datos entre estructuras de datos en memoria y diferentes formatos de archivo\n",
    "* Alineación de datos y manejo integrado de datos faltantes\n",
    "* Remodelación y pivoteo de conjuntos de datos\n",
    "* Rebanado basado en etiquetas, indexación elegante y creación de subconjuntos de grandes conjuntos de datos\n",
    "* Inserción y eliminación de columnas de estructura de datos\n",
    "* Motor de agrupación que permite operaciones de división, aplicación y combinación en conjuntos de datos\n",
    "* Fusión y unión de conjuntos de datos\n",
    "* Indexación de ejes jerárquicos para trabajar con datos de alta dimensión en una estructura de datos de menor dimensión\n",
    "* Funcionalidad de serie temporal: generación de rango de fechas y conversión de frecuencia, estadísticas de ventana móvil, regresiones lineales de ventana móvil, cambio de fecha y retraso\n",
    "\n",
    "La biblioteca está altamente optimizada para el rendimiento, con rutas de código críticas escritas en Cython o C."
   ]
  },
  {
   "cell_type": "code",
   "execution_count": 38,
   "id": "74def516",
   "metadata": {},
   "outputs": [
    {
     "data": {
      "text/plain": [
       "0    10.4\n",
       "1    20.0\n",
       "2    14.0\n",
       "3    11.0\n",
       "dtype: float64"
      ]
     },
     "execution_count": 38,
     "metadata": {},
     "output_type": "execute_result"
    }
   ],
   "source": [
    "edad = pd.Series([10.4,20,14,11])\n",
    "edad"
   ]
  },
  {
   "cell_type": "code",
   "execution_count": 39,
   "id": "04fd704f",
   "metadata": {},
   "outputs": [
    {
     "data": {
      "text/plain": [
       "g    10\n",
       "b    20\n",
       "c    14\n",
       "d    11\n",
       "dtype: int64"
      ]
     },
     "execution_count": 39,
     "metadata": {},
     "output_type": "execute_result"
    }
   ],
   "source": [
    "bacteria = pd.Series([10,20,14,11], index = ['g','b','c','d'])\n",
    "bacteria"
   ]
  },
  {
   "cell_type": "code",
   "execution_count": 40,
   "id": "ccc0f9fd",
   "metadata": {},
   "outputs": [
    {
     "data": {
      "text/plain": [
       "(array([10, 20, 14, 11], dtype=int64),\n",
       " Index(['g', 'b', 'c', 'd'], dtype='object'))"
      ]
     },
     "execution_count": 40,
     "metadata": {},
     "output_type": "execute_result"
    }
   ],
   "source": [
    "bacteria.values, bacteria.index"
   ]
  },
  {
   "cell_type": "code",
   "execution_count": 41,
   "id": "4d832cca",
   "metadata": {},
   "outputs": [],
   "source": [
    "bacteria_dict = {'a':10, 'b':20,'c':14,'d':11}"
   ]
  },
  {
   "cell_type": "code",
   "execution_count": 42,
   "id": "48a510d4",
   "metadata": {},
   "outputs": [
    {
     "data": {
      "text/plain": [
       "a    10\n",
       "b    20\n",
       "c    14\n",
       "d    11\n",
       "dtype: int64"
      ]
     },
     "execution_count": 42,
     "metadata": {},
     "output_type": "execute_result"
    }
   ],
   "source": [
    "pd.Series(bacteria_dict)"
   ]
  },
  {
   "cell_type": "code",
   "execution_count": 43,
   "id": "809e58cf",
   "metadata": {},
   "outputs": [
    {
     "data": {
      "text/plain": [
       "count     4.00\n",
       "mean     13.75\n",
       "std       4.50\n",
       "min      10.00\n",
       "25%      10.75\n",
       "50%      12.50\n",
       "75%      15.50\n",
       "max      20.00\n",
       "dtype: float64"
      ]
     },
     "execution_count": 43,
     "metadata": {},
     "output_type": "execute_result"
    }
   ],
   "source": [
    "bacteria.describe()"
   ]
  },
  {
   "cell_type": "code",
   "execution_count": null,
   "id": "c58ef6c5",
   "metadata": {},
   "outputs": [],
   "source": [
    "data = np.array([['','Col1','Col2'],['Fila1',11,22],['Fila2',33,44]])\n",
    "data"
   ]
  },
  {
   "cell_type": "code",
   "execution_count": null,
   "id": "5f689b8d",
   "metadata": {},
   "outputs": [],
   "source": [
    "df = pd.DataFrame(data = data[1:,1:], index = data[1:,0],columns = data[0,1:])\n",
    "df"
   ]
  },
  {
   "cell_type": "code",
   "execution_count": null,
   "id": "b4eb90a9",
   "metadata": {},
   "outputs": [],
   "source": [
    "df.shape"
   ]
  },
  {
   "cell_type": "code",
   "execution_count": null,
   "id": "82bbadf5",
   "metadata": {},
   "outputs": [],
   "source": [
    "df.describe()"
   ]
  },
  {
   "cell_type": "code",
   "execution_count": null,
   "id": "e6c65543",
   "metadata": {},
   "outputs": [],
   "source": [
    "df.mean()"
   ]
  },
  {
   "cell_type": "markdown",
   "id": "66cda80a",
   "metadata": {},
   "source": [
    "### Datos del Titanic"
   ]
  },
  {
   "cell_type": "code",
   "execution_count": 46,
   "id": "c6caaee0",
   "metadata": {},
   "outputs": [],
   "source": [
    "titanic = pd.read_csv('./Archives/titanic.csv')"
   ]
  },
  {
   "cell_type": "code",
   "execution_count": 47,
   "id": "bd021f89",
   "metadata": {},
   "outputs": [
    {
     "data": {
      "text/plain": [
       "891"
      ]
     },
     "execution_count": 47,
     "metadata": {},
     "output_type": "execute_result"
    }
   ],
   "source": [
    "len(titanic)"
   ]
  },
  {
   "cell_type": "code",
   "execution_count": 48,
   "id": "1ff1bc99",
   "metadata": {},
   "outputs": [
    {
     "data": {
      "text/html": [
       "<div>\n",
       "<style scoped>\n",
       "    .dataframe tbody tr th:only-of-type {\n",
       "        vertical-align: middle;\n",
       "    }\n",
       "\n",
       "    .dataframe tbody tr th {\n",
       "        vertical-align: top;\n",
       "    }\n",
       "\n",
       "    .dataframe thead th {\n",
       "        text-align: right;\n",
       "    }\n",
       "</style>\n",
       "<table border=\"1\" class=\"dataframe\">\n",
       "  <thead>\n",
       "    <tr style=\"text-align: right;\">\n",
       "      <th></th>\n",
       "      <th>PassengerId</th>\n",
       "      <th>Survived</th>\n",
       "      <th>Pclass</th>\n",
       "      <th>Name</th>\n",
       "      <th>Sex</th>\n",
       "      <th>Age</th>\n",
       "      <th>SibSp</th>\n",
       "      <th>Parch</th>\n",
       "      <th>Ticket</th>\n",
       "      <th>Fare</th>\n",
       "      <th>Cabin</th>\n",
       "      <th>Embarked</th>\n",
       "    </tr>\n",
       "  </thead>\n",
       "  <tbody>\n",
       "    <tr>\n",
       "      <th>0</th>\n",
       "      <td>1</td>\n",
       "      <td>0</td>\n",
       "      <td>3</td>\n",
       "      <td>Braund, Mr. Owen Harris</td>\n",
       "      <td>male</td>\n",
       "      <td>22.0</td>\n",
       "      <td>1</td>\n",
       "      <td>0</td>\n",
       "      <td>A/5 21171</td>\n",
       "      <td>7.2500</td>\n",
       "      <td>NaN</td>\n",
       "      <td>S</td>\n",
       "    </tr>\n",
       "    <tr>\n",
       "      <th>1</th>\n",
       "      <td>2</td>\n",
       "      <td>1</td>\n",
       "      <td>1</td>\n",
       "      <td>Cumings, Mrs. John Bradley (Florence Briggs Th...</td>\n",
       "      <td>female</td>\n",
       "      <td>38.0</td>\n",
       "      <td>1</td>\n",
       "      <td>0</td>\n",
       "      <td>PC 17599</td>\n",
       "      <td>71.2833</td>\n",
       "      <td>C85</td>\n",
       "      <td>C</td>\n",
       "    </tr>\n",
       "    <tr>\n",
       "      <th>2</th>\n",
       "      <td>3</td>\n",
       "      <td>1</td>\n",
       "      <td>3</td>\n",
       "      <td>Heikkinen, Miss. Laina</td>\n",
       "      <td>female</td>\n",
       "      <td>26.0</td>\n",
       "      <td>0</td>\n",
       "      <td>0</td>\n",
       "      <td>STON/O2. 3101282</td>\n",
       "      <td>7.9250</td>\n",
       "      <td>NaN</td>\n",
       "      <td>S</td>\n",
       "    </tr>\n",
       "    <tr>\n",
       "      <th>3</th>\n",
       "      <td>4</td>\n",
       "      <td>1</td>\n",
       "      <td>1</td>\n",
       "      <td>Futrelle, Mrs. Jacques Heath (Lily May Peel)</td>\n",
       "      <td>female</td>\n",
       "      <td>35.0</td>\n",
       "      <td>1</td>\n",
       "      <td>0</td>\n",
       "      <td>113803</td>\n",
       "      <td>53.1000</td>\n",
       "      <td>C123</td>\n",
       "      <td>S</td>\n",
       "    </tr>\n",
       "    <tr>\n",
       "      <th>4</th>\n",
       "      <td>5</td>\n",
       "      <td>0</td>\n",
       "      <td>3</td>\n",
       "      <td>Allen, Mr. William Henry</td>\n",
       "      <td>male</td>\n",
       "      <td>35.0</td>\n",
       "      <td>0</td>\n",
       "      <td>0</td>\n",
       "      <td>373450</td>\n",
       "      <td>8.0500</td>\n",
       "      <td>NaN</td>\n",
       "      <td>S</td>\n",
       "    </tr>\n",
       "  </tbody>\n",
       "</table>\n",
       "</div>"
      ],
      "text/plain": [
       "   PassengerId  Survived  Pclass  \\\n",
       "0            1         0       3   \n",
       "1            2         1       1   \n",
       "2            3         1       3   \n",
       "3            4         1       1   \n",
       "4            5         0       3   \n",
       "\n",
       "                                                Name     Sex   Age  SibSp  \\\n",
       "0                            Braund, Mr. Owen Harris    male  22.0      1   \n",
       "1  Cumings, Mrs. John Bradley (Florence Briggs Th...  female  38.0      1   \n",
       "2                             Heikkinen, Miss. Laina  female  26.0      0   \n",
       "3       Futrelle, Mrs. Jacques Heath (Lily May Peel)  female  35.0      1   \n",
       "4                           Allen, Mr. William Henry    male  35.0      0   \n",
       "\n",
       "   Parch            Ticket     Fare Cabin Embarked  \n",
       "0      0         A/5 21171   7.2500   NaN        S  \n",
       "1      0          PC 17599  71.2833   C85        C  \n",
       "2      0  STON/O2. 3101282   7.9250   NaN        S  \n",
       "3      0            113803  53.1000  C123        S  \n",
       "4      0            373450   8.0500   NaN        S  "
      ]
     },
     "execution_count": 48,
     "metadata": {},
     "output_type": "execute_result"
    }
   ],
   "source": [
    "titanic.head()"
   ]
  },
  {
   "cell_type": "code",
   "execution_count": 49,
   "id": "65c092eb",
   "metadata": {},
   "outputs": [
    {
     "data": {
      "text/html": [
       "<div>\n",
       "<style scoped>\n",
       "    .dataframe tbody tr th:only-of-type {\n",
       "        vertical-align: middle;\n",
       "    }\n",
       "\n",
       "    .dataframe tbody tr th {\n",
       "        vertical-align: top;\n",
       "    }\n",
       "\n",
       "    .dataframe thead th {\n",
       "        text-align: right;\n",
       "    }\n",
       "</style>\n",
       "<table border=\"1\" class=\"dataframe\">\n",
       "  <thead>\n",
       "    <tr style=\"text-align: right;\">\n",
       "      <th></th>\n",
       "      <th>PassengerId</th>\n",
       "      <th>Survived</th>\n",
       "      <th>Pclass</th>\n",
       "      <th>Age</th>\n",
       "      <th>SibSp</th>\n",
       "      <th>Parch</th>\n",
       "      <th>Fare</th>\n",
       "    </tr>\n",
       "  </thead>\n",
       "  <tbody>\n",
       "    <tr>\n",
       "      <th>count</th>\n",
       "      <td>891.000000</td>\n",
       "      <td>891.000000</td>\n",
       "      <td>891.000000</td>\n",
       "      <td>714.000000</td>\n",
       "      <td>891.000000</td>\n",
       "      <td>891.000000</td>\n",
       "      <td>891.000000</td>\n",
       "    </tr>\n",
       "    <tr>\n",
       "      <th>mean</th>\n",
       "      <td>446.000000</td>\n",
       "      <td>0.383838</td>\n",
       "      <td>2.308642</td>\n",
       "      <td>29.699118</td>\n",
       "      <td>0.523008</td>\n",
       "      <td>0.381594</td>\n",
       "      <td>32.204208</td>\n",
       "    </tr>\n",
       "    <tr>\n",
       "      <th>std</th>\n",
       "      <td>257.353842</td>\n",
       "      <td>0.486592</td>\n",
       "      <td>0.836071</td>\n",
       "      <td>14.526497</td>\n",
       "      <td>1.102743</td>\n",
       "      <td>0.806057</td>\n",
       "      <td>49.693429</td>\n",
       "    </tr>\n",
       "    <tr>\n",
       "      <th>min</th>\n",
       "      <td>1.000000</td>\n",
       "      <td>0.000000</td>\n",
       "      <td>1.000000</td>\n",
       "      <td>0.420000</td>\n",
       "      <td>0.000000</td>\n",
       "      <td>0.000000</td>\n",
       "      <td>0.000000</td>\n",
       "    </tr>\n",
       "    <tr>\n",
       "      <th>25%</th>\n",
       "      <td>223.500000</td>\n",
       "      <td>0.000000</td>\n",
       "      <td>2.000000</td>\n",
       "      <td>20.125000</td>\n",
       "      <td>0.000000</td>\n",
       "      <td>0.000000</td>\n",
       "      <td>7.910400</td>\n",
       "    </tr>\n",
       "    <tr>\n",
       "      <th>50%</th>\n",
       "      <td>446.000000</td>\n",
       "      <td>0.000000</td>\n",
       "      <td>3.000000</td>\n",
       "      <td>28.000000</td>\n",
       "      <td>0.000000</td>\n",
       "      <td>0.000000</td>\n",
       "      <td>14.454200</td>\n",
       "    </tr>\n",
       "    <tr>\n",
       "      <th>75%</th>\n",
       "      <td>668.500000</td>\n",
       "      <td>1.000000</td>\n",
       "      <td>3.000000</td>\n",
       "      <td>38.000000</td>\n",
       "      <td>1.000000</td>\n",
       "      <td>0.000000</td>\n",
       "      <td>31.000000</td>\n",
       "    </tr>\n",
       "    <tr>\n",
       "      <th>max</th>\n",
       "      <td>891.000000</td>\n",
       "      <td>1.000000</td>\n",
       "      <td>3.000000</td>\n",
       "      <td>80.000000</td>\n",
       "      <td>8.000000</td>\n",
       "      <td>6.000000</td>\n",
       "      <td>512.329200</td>\n",
       "    </tr>\n",
       "  </tbody>\n",
       "</table>\n",
       "</div>"
      ],
      "text/plain": [
       "       PassengerId    Survived      Pclass         Age       SibSp  \\\n",
       "count   891.000000  891.000000  891.000000  714.000000  891.000000   \n",
       "mean    446.000000    0.383838    2.308642   29.699118    0.523008   \n",
       "std     257.353842    0.486592    0.836071   14.526497    1.102743   \n",
       "min       1.000000    0.000000    1.000000    0.420000    0.000000   \n",
       "25%     223.500000    0.000000    2.000000   20.125000    0.000000   \n",
       "50%     446.000000    0.000000    3.000000   28.000000    0.000000   \n",
       "75%     668.500000    1.000000    3.000000   38.000000    1.000000   \n",
       "max     891.000000    1.000000    3.000000   80.000000    8.000000   \n",
       "\n",
       "            Parch        Fare  \n",
       "count  891.000000  891.000000  \n",
       "mean     0.381594   32.204208  \n",
       "std      0.806057   49.693429  \n",
       "min      0.000000    0.000000  \n",
       "25%      0.000000    7.910400  \n",
       "50%      0.000000   14.454200  \n",
       "75%      0.000000   31.000000  \n",
       "max      6.000000  512.329200  "
      ]
     },
     "execution_count": 49,
     "metadata": {},
     "output_type": "execute_result"
    }
   ],
   "source": [
    "titanic.describe()"
   ]
  },
  {
   "cell_type": "code",
   "execution_count": 50,
   "id": "904c47b6",
   "metadata": {},
   "outputs": [
    {
     "data": {
      "text/plain": [
       "PassengerId      int64\n",
       "Survived         int64\n",
       "Pclass           int64\n",
       "Name            object\n",
       "Sex             object\n",
       "Age            float64\n",
       "SibSp            int64\n",
       "Parch            int64\n",
       "Ticket          object\n",
       "Fare           float64\n",
       "Cabin           object\n",
       "Embarked        object\n",
       "dtype: object"
      ]
     },
     "execution_count": 50,
     "metadata": {},
     "output_type": "execute_result"
    }
   ],
   "source": [
    "titanic.dtypes"
   ]
  },
  {
   "cell_type": "code",
   "execution_count": 51,
   "id": "50da012e",
   "metadata": {},
   "outputs": [
    {
     "data": {
      "text/plain": [
       "male      577\n",
       "female    314\n",
       "Name: Sex, dtype: int64"
      ]
     },
     "execution_count": 51,
     "metadata": {},
     "output_type": "execute_result"
    }
   ],
   "source": [
    "titanic['Sex'].value_counts()"
   ]
  },
  {
   "cell_type": "code",
   "execution_count": 54,
   "id": "bc152c38",
   "metadata": {},
   "outputs": [
    {
     "data": {
      "text/plain": [
       "PassengerId      0\n",
       "Survived         0\n",
       "Pclass           0\n",
       "Name             0\n",
       "Sex              0\n",
       "Age            177\n",
       "SibSp            0\n",
       "Parch            0\n",
       "Ticket           0\n",
       "Fare             0\n",
       "Cabin          687\n",
       "Embarked         2\n",
       "dtype: int64"
      ]
     },
     "execution_count": 54,
     "metadata": {},
     "output_type": "execute_result"
    }
   ],
   "source": [
    "titanic.isnull().sum()"
   ]
  },
  {
   "cell_type": "code",
   "execution_count": 55,
   "id": "e1719bff",
   "metadata": {},
   "outputs": [
    {
     "data": {
      "text/html": [
       "<div>\n",
       "<style scoped>\n",
       "    .dataframe tbody tr th:only-of-type {\n",
       "        vertical-align: middle;\n",
       "    }\n",
       "\n",
       "    .dataframe tbody tr th {\n",
       "        vertical-align: top;\n",
       "    }\n",
       "\n",
       "    .dataframe thead th {\n",
       "        text-align: right;\n",
       "    }\n",
       "</style>\n",
       "<table border=\"1\" class=\"dataframe\">\n",
       "  <thead>\n",
       "    <tr style=\"text-align: right;\">\n",
       "      <th></th>\n",
       "      <th>PassengerId</th>\n",
       "      <th>Survived</th>\n",
       "      <th>Pclass</th>\n",
       "      <th>Sex</th>\n",
       "    </tr>\n",
       "  </thead>\n",
       "  <tbody>\n",
       "    <tr>\n",
       "      <th>0</th>\n",
       "      <td>1</td>\n",
       "      <td>0</td>\n",
       "      <td>3</td>\n",
       "      <td>male</td>\n",
       "    </tr>\n",
       "    <tr>\n",
       "      <th>1</th>\n",
       "      <td>2</td>\n",
       "      <td>1</td>\n",
       "      <td>1</td>\n",
       "      <td>female</td>\n",
       "    </tr>\n",
       "    <tr>\n",
       "      <th>2</th>\n",
       "      <td>3</td>\n",
       "      <td>1</td>\n",
       "      <td>3</td>\n",
       "      <td>female</td>\n",
       "    </tr>\n",
       "    <tr>\n",
       "      <th>3</th>\n",
       "      <td>4</td>\n",
       "      <td>1</td>\n",
       "      <td>1</td>\n",
       "      <td>female</td>\n",
       "    </tr>\n",
       "    <tr>\n",
       "      <th>4</th>\n",
       "      <td>5</td>\n",
       "      <td>0</td>\n",
       "      <td>3</td>\n",
       "      <td>male</td>\n",
       "    </tr>\n",
       "  </tbody>\n",
       "</table>\n",
       "</div>"
      ],
      "text/plain": [
       "   PassengerId  Survived  Pclass     Sex\n",
       "0            1         0       3    male\n",
       "1            2         1       1  female\n",
       "2            3         1       3  female\n",
       "3            4         1       1  female\n",
       "4            5         0       3    male"
      ]
     },
     "execution_count": 55,
     "metadata": {},
     "output_type": "execute_result"
    }
   ],
   "source": [
    "df1 = pd.read_csv('./Archives/titanic.csv', usecols = ['PassengerId', 'Survived','Pclass','Sex'])\n",
    "df1.head()"
   ]
  },
  {
   "cell_type": "code",
   "execution_count": 56,
   "id": "f431aff1",
   "metadata": {},
   "outputs": [
    {
     "data": {
      "text/html": [
       "<div>\n",
       "<style scoped>\n",
       "    .dataframe tbody tr th:only-of-type {\n",
       "        vertical-align: middle;\n",
       "    }\n",
       "\n",
       "    .dataframe tbody tr th {\n",
       "        vertical-align: top;\n",
       "    }\n",
       "\n",
       "    .dataframe thead th {\n",
       "        text-align: right;\n",
       "    }\n",
       "</style>\n",
       "<table border=\"1\" class=\"dataframe\">\n",
       "  <thead>\n",
       "    <tr style=\"text-align: right;\">\n",
       "      <th></th>\n",
       "      <th>PassengerId</th>\n",
       "      <th>Survived</th>\n",
       "      <th>Pclass</th>\n",
       "      <th>Sex</th>\n",
       "    </tr>\n",
       "  </thead>\n",
       "  <tbody>\n",
       "    <tr>\n",
       "      <th>0</th>\n",
       "      <td>1</td>\n",
       "      <td>0</td>\n",
       "      <td>3</td>\n",
       "      <td>male</td>\n",
       "    </tr>\n",
       "    <tr>\n",
       "      <th>511</th>\n",
       "      <td>512</td>\n",
       "      <td>0</td>\n",
       "      <td>3</td>\n",
       "      <td>male</td>\n",
       "    </tr>\n",
       "    <tr>\n",
       "      <th>500</th>\n",
       "      <td>501</td>\n",
       "      <td>0</td>\n",
       "      <td>3</td>\n",
       "      <td>male</td>\n",
       "    </tr>\n",
       "    <tr>\n",
       "      <th>501</th>\n",
       "      <td>502</td>\n",
       "      <td>0</td>\n",
       "      <td>3</td>\n",
       "      <td>female</td>\n",
       "    </tr>\n",
       "    <tr>\n",
       "      <th>502</th>\n",
       "      <td>503</td>\n",
       "      <td>0</td>\n",
       "      <td>3</td>\n",
       "      <td>female</td>\n",
       "    </tr>\n",
       "    <tr>\n",
       "      <th>...</th>\n",
       "      <td>...</td>\n",
       "      <td>...</td>\n",
       "      <td>...</td>\n",
       "      <td>...</td>\n",
       "    </tr>\n",
       "    <tr>\n",
       "      <th>102</th>\n",
       "      <td>103</td>\n",
       "      <td>0</td>\n",
       "      <td>1</td>\n",
       "      <td>male</td>\n",
       "    </tr>\n",
       "    <tr>\n",
       "      <th>710</th>\n",
       "      <td>711</td>\n",
       "      <td>1</td>\n",
       "      <td>1</td>\n",
       "      <td>female</td>\n",
       "    </tr>\n",
       "    <tr>\n",
       "      <th>711</th>\n",
       "      <td>712</td>\n",
       "      <td>0</td>\n",
       "      <td>1</td>\n",
       "      <td>male</td>\n",
       "    </tr>\n",
       "    <tr>\n",
       "      <th>712</th>\n",
       "      <td>713</td>\n",
       "      <td>1</td>\n",
       "      <td>1</td>\n",
       "      <td>male</td>\n",
       "    </tr>\n",
       "    <tr>\n",
       "      <th>445</th>\n",
       "      <td>446</td>\n",
       "      <td>1</td>\n",
       "      <td>1</td>\n",
       "      <td>male</td>\n",
       "    </tr>\n",
       "  </tbody>\n",
       "</table>\n",
       "<p>891 rows × 4 columns</p>\n",
       "</div>"
      ],
      "text/plain": [
       "     PassengerId  Survived  Pclass     Sex\n",
       "0              1         0       3    male\n",
       "511          512         0       3    male\n",
       "500          501         0       3    male\n",
       "501          502         0       3  female\n",
       "502          503         0       3  female\n",
       "..           ...       ...     ...     ...\n",
       "102          103         0       1    male\n",
       "710          711         1       1  female\n",
       "711          712         0       1    male\n",
       "712          713         1       1    male\n",
       "445          446         1       1    male\n",
       "\n",
       "[891 rows x 4 columns]"
      ]
     },
     "execution_count": 56,
     "metadata": {},
     "output_type": "execute_result"
    }
   ],
   "source": [
    "df1 = df1.sort_values('Pclass', ascending = False)\n",
    "df1"
   ]
  },
  {
   "cell_type": "code",
   "execution_count": 57,
   "id": "bab32ae3",
   "metadata": {},
   "outputs": [
    {
     "data": {
      "text/plain": [
       "array([<AxesSubplot:title={'center':'female'}>,\n",
       "       <AxesSubplot:title={'center':'male'}>, <AxesSubplot:>],\n",
       "      dtype=object)"
      ]
     },
     "execution_count": 57,
     "metadata": {},
     "output_type": "execute_result"
    },
    {
     "data": {
      "image/png": "[encoded data removed]",
      "text/plain": [
       "<Figure size 720x216 with 3 Axes>"
      ]
     },
     "metadata": {
      "needs_background": "light"
     },
     "output_type": "display_data"
    },
    {
     "data": {
      "image/png": "[encoded data removed]",
      "text/plain": [
       "<Figure size 720x216 with 3 Axes>"
      ]
     },
     "metadata": {
      "needs_background": "light"
     },
     "output_type": "display_data"
    }
   ],
   "source": [
    "df1.hist('Survived', by = 'Pclass', grid = 'False', layout = [1,3], figsize = [10,3])\n",
    "df1.hist('Survived', by = 'Sex', grid = 'False', layout = [1,3], figsize = [10,3])"
   ]
  },
  {
   "cell_type": "code",
   "execution_count": null,
   "id": "af1467f4",
   "metadata": {},
   "outputs": [],
   "source": []
  }
 ],
 "metadata": {
  "kernelspec": {
   "display_name": "Python 3 (ipykernel)",
   "language": "python",
   "name": "python3"
  },
  "language_info": {
   "codemirror_mode": {
    "name": "ipython",
    "version": 3
   },
   "file_extension": ".py",
   "mimetype": "text/x-python",
   "name": "python",
   "nbconvert_exporter": "python",
   "pygments_lexer": "ipython3",
   "version": "3.9.12"
  }
 },
 "nbformat": 4,
 "nbformat_minor": 5
}
