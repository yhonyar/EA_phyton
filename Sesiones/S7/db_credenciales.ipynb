{
 "cells": [
  {
   "cell_type": "code",
   "execution_count": 1,
   "id": "7a66b515",
   "metadata": {},
   "outputs": [],
   "source": [
    "import sqlalchemy\n",
    "import mysql.connector\n",
    "\n",
    "def conexion_repo_preparacion():\n",
    "    username = 'root'\n",
    "    hostname = 'localhost'\n",
    "    database = 'repo_preparacion'\n",
    "    port     = '3306'\n",
    "    password = '12345'\n",
    "    con = sqlalchemy.create_engine('mysql+mysqlconnector://{0}:{1}@{2}/{3}'.\n",
    "                                               format(username, password, \n",
    "                                                      hostname, database))\n",
    "    return con\n",
    "def conexion_repo_final():\n",
    "    username = 'root'\n",
    "    hostname = 'localhost'\n",
    "    database = 'repo_final'\n",
    "    port     = '3306'\n",
    "    password = '12345'\n",
    "    con = sqlalchemy.create_engine('mysql+mysqlconnector://{0}:{1}@{2}/{3}'.\n",
    "                                               format(username, password, \n",
    "                                                      hostname, database))\n",
    "    return con"
   ]
  },
  {
   "cell_type": "code",
   "execution_count": null,
   "id": "75c6f488",
   "metadata": {},
   "outputs": [],
   "source": []
  }
 ],
 "metadata": {
  "kernelspec": {
   "display_name": "Python 3 (ipykernel)",
   "language": "python",
   "name": "python3"
  },
  "language_info": {
   "codemirror_mode": {
    "name": "ipython",
    "version": 3
   },
   "file_extension": ".py",
   "mimetype": "text/x-python",
   "name": "python",
   "nbconvert_exporter": "python",
   "pygments_lexer": "ipython3",
   "version": "3.9.12"
  }
 },
 "nbformat": 4,
 "nbformat_minor": 5
}
