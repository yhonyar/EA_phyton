{
 "cells": [
  {
   "cell_type": "code",
   "execution_count": null,
   "id": "615a20fd",
   "metadata": {},
   "outputs": [],
   "source": [
    "import pandas as pd\n",
    "from db_credenciales import conexion_repo_preparacion\n",
    "from prefect import task"
   ]
  },
  {
   "cell_type": "code",
   "execution_count": null,
   "id": "0e386311",
   "metadata": {},
   "outputs": [],
   "source": [
    "@task\n",
    "def transform():\n",
    "    \n",
    "    print('Comienza la transformación')\n",
    "    \n",
    "    connection = conexion_repo_preparacion()\n",
    "    \n",
    "    sql = \"select * from covid19\"\n",
    "    df = pd.read_sql(sql,con=connection)\n",
    "    \n",
    "    #eliminar duplicados\n",
    "    new_df = df.drop_duplicates()\n",
    "    new_df = new_df.drop_duplicates(df.columns[~df.columns.isin(['index'])],\n",
    "                        keep='first')\n",
    "    \n",
    "    #Eliminar columnas  \n",
    "    new_df = new_df.drop(columns=[\"index\",\"Combined_Key\",\"Case_Fatality_Ratio\",\"Lat\",\"Long_\"])\n",
    "    \n",
    "    #eliminar las filas que tienen valores nulos o ceros en las columnas confirmed or\n",
    "    #death or recovered or active .\n",
    "    new_df = new_df.dropna(subset=['Confirmed','Active','Deaths','Recovered'])\n",
    "    new_df = new_df.drop(new_df[new_df['Confirmed']==0].index)\n",
    "    \n",
    "    #agrupar por países\n",
    "    res_df = df.groupby([\"Country_Region\"], as_index=False)['Confirmed','Active','Deaths','Recovered'].sum()\n",
    "    \n",
    "    print('Termina la transformación')\n",
    "    \n",
    "    return new_df, res_df"
   ]
  },
  {
   "cell_type": "code",
   "execution_count": null,
   "id": "1ef2c440",
   "metadata": {},
   "outputs": [],
   "source": []
  }
 ],
 "metadata": {
  "kernelspec": {
   "display_name": "Python 3 (ipykernel)",
   "language": "python",
   "name": "python3"
  },
  "language_info": {
   "codemirror_mode": {
    "name": "ipython",
    "version": 3
   },
   "file_extension": ".py",
   "mimetype": "text/x-python",
   "name": "python",
   "nbconvert_exporter": "python",
   "pygments_lexer": "ipython3",
   "version": "3.9.12"
  }
 },
 "nbformat": 4,
 "nbformat_minor": 5
}
