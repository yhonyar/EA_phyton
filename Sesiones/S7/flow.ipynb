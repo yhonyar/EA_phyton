{
 "cells": [
  {
   "cell_type": "code",
   "execution_count": null,
   "id": "7ea32aed",
   "metadata": {},
   "outputs": [],
   "source": [
    "from prefect import Flow\n",
    "from ipynb.fs.full.transformacion import transform\n",
    "from ipynb.fs.full.carga import carga_datos, carga_resumen\n",
    "from ipynb.fs.full.db_credenciales import conexion_repo_final\n",
    "from prefect.schedules import IntervalSchedule\n",
    "from datetime import timedelta"
   ]
  },
  {
   "cell_type": "code",
   "execution_count": null,
   "id": "93b112a8",
   "metadata": {},
   "outputs": [],
   "source": [
    "#import os\n",
    "#import sys\n",
    "#sys.path.append(\"C:\\\\Users\\\\Yhony\\\\anaconda3\\\\Lib\\\\site-packages\\\\prefect\\\\orion\\\\schemas\")\n",
    "#from schedules import IntervalSchedule"
   ]
  },
  {
   "cell_type": "code",
   "execution_count": null,
   "id": "099b470d",
   "metadata": {},
   "outputs": [],
   "source": [
    "schedule = IntervalSchedule(\n",
    "    interval=timedelta(seconds=20)\n",
    ")\n",
    "with Flow(\"proceso-ETL\", schedule=scheduler) as flow:\n",
    "    \n",
    "    # Define tasks\n",
    "    df, res_df =  transform()\n",
    "    carga_datos(df)\n",
    "    carga_resumen(res_df)\n",
    "    \n",
    "flow.run()"
   ]
  }
 ],
 "metadata": {
  "kernelspec": {
   "display_name": "Python 3 (ipykernel)",
   "language": "python",
   "name": "python3"
  },
  "language_info": {
   "codemirror_mode": {
    "name": "ipython",
    "version": 3
   },
   "file_extension": ".py",
   "mimetype": "text/x-python",
   "name": "python",
   "nbconvert_exporter": "python",
   "pygments_lexer": "ipython3",
   "version": "3.9.12"
  }
 },
 "nbformat": 4,
 "nbformat_minor": 5
}
