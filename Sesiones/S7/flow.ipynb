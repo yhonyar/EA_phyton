{
 "cells": [
  {
   "cell_type": "code",
   "execution_count": null,
   "id": "7ea32aed",
   "metadata": {},
   "outputs": [],
   "source": [
    "from prefect import Flow\n",
    "from transformacion import transform\n",
    "from carga import carga_datos,carga_resumen\n",
    "from prefect.schedules import IntervalSchedule\n",
    "from datetime import timedelta"
   ]
  },
  {
   "cell_type": "code",
   "execution_count": null,
   "id": "099b470d",
   "metadata": {},
   "outputs": [],
   "source": [
    "scheduler = IntervalSchedule(\n",
    "    interval=timedelta(seconds=10)\n",
    ")\n",
    "with Flow(\"proceso-ETL\", schedule=scheduler) as flow:\n",
    "    \n",
    "    # Define tasks\n",
    "    df, res_df =  transform()\n",
    "    carga_datos(df)\n",
    "    carga_resumen(res_df)\n",
    "    \n",
    "flow.run()"
   ]
  },
  {
   "cell_type": "code",
   "execution_count": null,
   "id": "2c278f11",
   "metadata": {},
   "outputs": [],
   "source": []
  }
 ],
 "metadata": {
  "kernelspec": {
   "display_name": "Python 3 (ipykernel)",
   "language": "python",
   "name": "python3"
  },
  "language_info": {
   "codemirror_mode": {
    "name": "ipython",
    "version": 3
   },
   "file_extension": ".py",
   "mimetype": "text/x-python",
   "name": "python",
   "nbconvert_exporter": "python",
   "pygments_lexer": "ipython3",
   "version": "3.9.12"
  }
 },
 "nbformat": 4,
 "nbformat_minor": 5
}
