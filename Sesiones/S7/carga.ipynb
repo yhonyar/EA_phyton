{
 "cells": [
  {
   "cell_type": "code",
   "execution_count": null,
   "id": "f5bf53bd",
   "metadata": {},
   "outputs": [],
   "source": [
    "@task\n",
    "def carga_datos(df):\n",
    "    print('Comienza la carga en covidt19')    \n",
    "    con = conexion_repo_final()\n",
    "    df.to_sql(con=con, name='covid19', if_exists='append', index=False)\n",
    "    print('Termina la carga en covidt19')\n",
    "\n",
    "@task\n",
    "def carga_resumen(df):\n",
    "    print('Comienza la carga en covidt19_country')\n",
    "    con = conexion_repo_final()\n",
    "    df.to_sql(con=con, name='covid19_country', if_exists='append', index=False)\n",
    "    print('Termina la carga en covidt19_country')"
   ]
  },
  {
   "cell_type": "code",
   "execution_count": null,
   "id": "f300b0f2",
   "metadata": {},
   "outputs": [],
   "source": []
  }
 ],
 "metadata": {
  "kernelspec": {
   "display_name": "Python 3 (ipykernel)",
   "language": "python",
   "name": "python3"
  },
  "language_info": {
   "codemirror_mode": {
    "name": "ipython",
    "version": 3
   },
   "file_extension": ".py",
   "mimetype": "text/x-python",
   "name": "python",
   "nbconvert_exporter": "python",
   "pygments_lexer": "ipython3",
   "version": "3.9.12"
  }
 },
 "nbformat": 4,
 "nbformat_minor": 5
}
