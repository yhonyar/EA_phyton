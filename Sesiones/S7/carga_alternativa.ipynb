{
 "cells": [
  {
   "cell_type": "code",
   "execution_count": 1,
   "id": "a4e87cb0",
   "metadata": {},
   "outputs": [],
   "source": [
    "from ipynb.fs.full.db_credenciales import conexion_repo_final\n",
    "from ipynb.fs.full.transformacion import transform"
   ]
  },
  {
   "cell_type": "code",
   "execution_count": 2,
   "id": "870c5721",
   "metadata": {},
   "outputs": [],
   "source": [
    "def carga_datos(df):\n",
    "    print('Comienza la carga en covidt19')    \n",
    "    con = conexion_repo_final()\n",
    "    df.to_sql(con=con, name='covid19', if_exists='append', index=False)\n",
    "    print('Termina la carga en covidt19')\n",
    "\n",
    "\n",
    "def carga_resumen(df):\n",
    "    print('Comienza la carga en covidt19_country')\n",
    "    con = conexion_repo_final()\n",
    "    df.to_sql(con=con, name='covid19_country', if_exists='append', index=False)\n",
    "    print('Termina la carga en covidt19_country')"
   ]
  },
  {
   "cell_type": "code",
   "execution_count": 3,
   "id": "3f4e02f5",
   "metadata": {},
   "outputs": [
    {
     "name": "stdout",
     "output_type": "stream",
     "text": [
      "Comienza la transformaciÃ³n\n"
     ]
    },
    {
     "name": "stderr",
     "output_type": "stream",
     "text": [
      "C:\\Users\\Yhony\\Documents\\GitHub\\EA_phyton\\Sesiones\\S7\\transformacion.ipynb:34: FutureWarning: Indexing with multiple keys (implicitly converted to a tuple of keys) will be deprecated, use a list instead.\n",
      "  \"    new_df = new_df.drop_duplicates(df.columns[~df.columns.isin(['index'])],\\n\",\n"
     ]
    },
    {
     "name": "stdout",
     "output_type": "stream",
     "text": [
      "Termina la transformaciÃ³n\n",
      "Comienza la carga en covidt19\n",
      "Termina la carga en covidt19\n",
      "Comienza la carga en covidt19_country\n",
      "Termina la carga en covidt19_country\n"
     ]
    }
   ],
   "source": [
    "df, res_df =  transform()\n",
    "carga_datos(df)\n",
    "carga_resumen(res_df)"
   ]
  },
  {
   "cell_type": "code",
   "execution_count": null,
   "id": "82d4f4d1",
   "metadata": {},
   "outputs": [],
   "source": []
  }
 ],
 "metadata": {
  "kernelspec": {
   "display_name": "Python 3 (ipykernel)",
   "language": "python",
   "name": "python3"
  },
  "language_info": {
   "codemirror_mode": {
    "name": "ipython",
    "version": 3
   },
   "file_extension": ".py",
   "mimetype": "text/x-python",
   "name": "python",
   "nbconvert_exporter": "python",
   "pygments_lexer": "ipython3",
   "version": "3.9.12"
  }
 },
 "nbformat": 4,
 "nbformat_minor": 5
}
