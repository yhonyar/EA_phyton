{
 "cells": [
  {
   "cell_type": "code",
   "execution_count": 1,
   "id": "0383403a",
   "metadata": {},
   "outputs": [],
   "source": [
    "import pandas as pd\n",
    "import requests\n",
    "from tqdm.auto import tqdm\n",
    "from ipynb.fs.full.db_credenciales import conexion_repo_preparacion"
   ]
  },
  {
   "cell_type": "code",
   "execution_count": null,
   "id": "2e597b72",
   "metadata": {},
   "outputs": [],
   "source": [
    "#import pandas as pd\n",
    "#import requests\n",
    "#import os\n",
    "#import sys\n",
    "#from tqdm.auto import tqdm\n",
    "#sys.path.append(\"C:\\\\Users\\\\Yhony\\\\Documents\\\\GitHub\\\\EA_phyton\\\\Sesiones\\\\S7\")\n",
    "#from db_credenciales import conexion_repo_preparacion"
   ]
  },
  {
   "cell_type": "code",
   "execution_count": 2,
   "id": "cdbfc94b",
   "metadata": {},
   "outputs": [],
   "source": [
    "def extract_from_csv(file_to_process):\n",
    "    dataframe = pd.read_csv(file_to_process)\n",
    "    return dataframe"
   ]
  },
  {
   "cell_type": "code",
   "execution_count": 3,
   "id": "0abac1ee",
   "metadata": {},
   "outputs": [],
   "source": [
    "def extract_covid19():\n",
    "\n",
    "    OWNER = 'CSSEGISandData'\n",
    "    REPO = 'COVID-19'\n",
    "    PATH = 'csse_covid_19_data/csse_covid_19_daily_reports'\n",
    "    URL = f'https://api.github.com/repos/{OWNER}/{REPO}/contents/{PATH}'\n",
    "    \n",
    "    response = requests.get(URL)\n",
    "    con = conexion_repo_preparacion()\n",
    "    \n",
    "    print('Conexión exitosa')\n",
    "    \n",
    "    i= 0\n",
    "    for data in tqdm(response.json()):    \n",
    "        if data['name'].endswith('.csv'):\n",
    "            file_path = data['download_url']\n",
    "            dat = extract_from_csv(file_path)\n",
    "            if i == 0: \n",
    "                dat.to_sql(con=con, name='covid19', if_exists='replace')\n",
    "            else:\n",
    "                dat.to_sql(con=con, name='covid19', if_exists='append')\n",
    "            i=i+1\n",
    "        if i == 10:\n",
    "            break\n",
    "        \n",
    "    print('Extracción y guardado en root exitosa.',)"
   ]
  },
  {
   "cell_type": "code",
   "execution_count": 4,
   "id": "bc640d13",
   "metadata": {},
   "outputs": [
    {
     "name": "stdout",
     "output_type": "stream",
     "text": [
      "Conexión exitosa\n"
     ]
    },
    {
     "data": {
      "application/vnd.jupyter.widget-view+json": {
       "model_id": "0e0068c93ba045cc95fa5573418b380f",
       "version_major": 2,
       "version_minor": 0
      },
      "text/plain": [
       "  0%|          | 0/1000 [00:00<?, ?it/s]"
      ]
     },
     "metadata": {},
     "output_type": "display_data"
    },
    {
     "name": "stdout",
     "output_type": "stream",
     "text": [
      "Extracción y guardado en root exitosa.\n"
     ]
    }
   ],
   "source": [
    "extract_covid19()"
   ]
  },
  {
   "cell_type": "code",
   "execution_count": null,
   "id": "cf27418d",
   "metadata": {},
   "outputs": [],
   "source": []
  }
 ],
 "metadata": {
  "kernelspec": {
   "display_name": "Python 3 (ipykernel)",
   "language": "python",
   "name": "python3"
  },
  "language_info": {
   "codemirror_mode": {
    "name": "ipython",
    "version": 3
   },
   "file_extension": ".py",
   "mimetype": "text/x-python",
   "name": "python",
   "nbconvert_exporter": "python",
   "pygments_lexer": "ipython3",
   "version": "3.9.12"
  }
 },
 "nbformat": 4,
 "nbformat_minor": 5
}
