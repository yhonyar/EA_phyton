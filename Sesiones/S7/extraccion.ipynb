{
 "cells": [
  {
   "cell_type": "code",
   "execution_count": null,
   "id": "0383403a",
   "metadata": {},
   "outputs": [],
   "source": [
    "import pandas as pd\n",
    "import requests\n",
    "from tqdm.auto import tqdm\n",
    "from db_credenciales import conexion_repo_preparacion"
   ]
  },
  {
   "cell_type": "code",
   "execution_count": null,
   "id": "cdbfc94b",
   "metadata": {},
   "outputs": [],
   "source": [
    "def extract_from_csv(file_to_process):\n",
    "    dataframe = pd.read_csv(file_to_process)\n",
    "    return dataframe\n",
    "\n",
    "def extract_from_json(file_to_process):\n",
    "    dataframe = pd.read_json(file_to_process,lines=True)\n",
    "    return dataframe\n",
    "\n",
    "import xml.etree.ElementTree as et\n",
    "\n",
    "def extract_from_xml(file_to_process):\n",
    "    xtree = et.parse(file_to_process)\n",
    "    xroot = xtree.getroot()\n",
    "    dataframe = pd.DataFrame(columns=['nombre','ventas1','ventas'])   \n",
    "    for person in xroot: \n",
    "        nombre = person.find(\"nombre\").text\n",
    "        ventas1 = float(person.find(\"ventas1\").text)\n",
    "        ventas = float(person.find(\"ventas\").text)\n",
    "        dataframe = dataframe.append({\"nombre\":nombre, \"ventas1\":ventas1, \"ventas\":ventas}, ignore_index=True)\n",
    "    return dataframe"
   ]
  },
  {
   "cell_type": "code",
   "execution_count": null,
   "id": "0abac1ee",
   "metadata": {},
   "outputs": [],
   "source": [
    "def extract_covid19():\n",
    "\n",
    "    OWNER = 'CSSEGISandData'\n",
    "    REPO = 'COVID-19'\n",
    "    PATH = 'csse_covid_19_data/csse_covid_19_daily_reports'\n",
    "    URL = f'https://api.github.com/repos/{OWNER}/{REPO}/contents/{PATH}'\n",
    "    \n",
    "    response = requests.get(URL)\n",
    "    con = conexion_repo_preparacion()\n",
    "    \n",
    "    print('Conexión exitosa')\n",
    "    \n",
    "    i= 0\n",
    "    for data in tqdm(response.json()):    \n",
    "        if data['name'].endswith('.csv'):\n",
    "            file_path = data['download_url']\n",
    "            dat = extract_from_csv(file_path)\n",
    "            if i == 0: \n",
    "                dat.to_sql(con=con, name='covid19', if_exists='replace')\n",
    "            else:\n",
    "                dat.to_sql(con=con, name='covid19', if_exists='append')\n",
    "            i=i+1\n",
    "        if i == 10:\n",
    "            break\n",
    "        \n",
    "    print('Extracción y guardado en root exitosa.',)"
   ]
  },
  {
   "cell_type": "code",
   "execution_count": null,
   "id": "bc640d13",
   "metadata": {},
   "outputs": [],
   "source": [
    "extract_covid19()"
   ]
  },
  {
   "cell_type": "code",
   "execution_count": null,
   "id": "cf27418d",
   "metadata": {},
   "outputs": [],
   "source": []
  }
 ],
 "metadata": {
  "kernelspec": {
   "display_name": "Python 3 (ipykernel)",
   "language": "python",
   "name": "python3"
  },
  "language_info": {
   "codemirror_mode": {
    "name": "ipython",
    "version": 3
   },
   "file_extension": ".py",
   "mimetype": "text/x-python",
   "name": "python",
   "nbconvert_exporter": "python",
   "pygments_lexer": "ipython3",
   "version": "3.9.12"
  }
 },
 "nbformat": 4,
 "nbformat_minor": 5
}
