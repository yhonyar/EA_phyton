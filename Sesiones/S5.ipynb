{
 "cells": [
  {
   "cell_type": "markdown",
   "id": "ae513771",
   "metadata": {},
   "source": [
    "# Sesión 5 Introducción a ETL\n",
    "\n",
    "+ Extraer\n",
    "+ Transformar\n",
    "+ Cargar"
   ]
  },
  {
   "cell_type": "code",
   "execution_count": null,
   "id": "ff89d284",
   "metadata": {},
   "outputs": [],
   "source": [
    "import pandas as pd\n",
    "import numpy as np"
   ]
  },
  {
   "cell_type": "code",
   "execution_count": null,
   "id": "42d33d95",
   "metadata": {},
   "outputs": [],
   "source": [
    "def extraer_de_csv(archivo_procesar):\n",
    "    df = pd.read_csv(archivo_procesar)\n",
    "    return df"
   ]
  },
  {
   "cell_type": "code",
   "execution_count": null,
   "id": "6732c07d",
   "metadata": {},
   "outputs": [],
   "source": [
    "def extraer_de_json(archivo_procesar):\n",
    "    df = pd.read_json(archivo_procesar, lines = True)\n",
    "    return df"
   ]
  },
  {
   "cell_type": "code",
   "execution_count": null,
   "id": "ed1cf6c7",
   "metadata": {},
   "outputs": [],
   "source": [
    "import xml.etree.ElementTree as et\n",
    "import glob"
   ]
  },
  {
   "cell_type": "code",
   "execution_count": null,
   "id": "1d8acebe",
   "metadata": {},
   "outputs": [],
   "source": [
    "def extraer_de_xml(archivo_procesar):\n",
    "    xtree = et.parse(archivo_procesar)\n",
    "    xroot = xtree.getroot()\n",
    "    df = pd.DataFrame(columns = ['nombre','ventas1','ventas'])\n",
    "    for persona in xroot:\n",
    "        nombre = persona.find('nombre').text\n",
    "        ventas1 = float(persona.find('ventas1').text)\n",
    "        ventas = float(persona.find('ventas').text)\n",
    "        df = df.append({'nombre':nombre,'ventas1':ventas1,'ventas':ventas}, ignore_index = True)\n",
    "    return df"
   ]
  },
  {
   "cell_type": "code",
   "execution_count": null,
   "id": "ce8857c6",
   "metadata": {},
   "outputs": [],
   "source": [
    "def extraer():\n",
    "    extraer_dato = pd.DataFrame(columns = ['nombre','ventas1','ventas'])\n",
    "    \n",
    "    for a_csv in glob.glob('./Archives/*.csv'):\n",
    "        print(a_csv)\n",
    "        extraer_dato = extraer_dato.append(extraer_de_csv(a_csv), ignore_index = True)\n",
    "        \n",
    "    for a_json in glob.glob('./Archives/*.json'):\n",
    "        print(a_json)\n",
    "        extraer_dato = extraer_dato.append(extraer_de_json(a_json), ignore_index = True)\n",
    "        \n",
    "    for a_xml in glob.glob('./Archives/*.xml'):\n",
    "        print(a_xml)\n",
    "        extraer_dato = extraer_dato.append(extraer_de_xml(a_xml), ignore_index = True)\n",
    "    return extraer_dato"
   ]
  },
  {
   "cell_type": "code",
   "execution_count": null,
   "id": "5b44c94a",
   "metadata": {},
   "outputs": [],
   "source": [
    "extraer()"
   ]
  }
 ],
 "metadata": {
  "kernelspec": {
   "display_name": "Python 3 (ipykernel)",
   "language": "python",
   "name": "python3"
  },
  "language_info": {
   "codemirror_mode": {
    "name": "ipython",
    "version": 3
   },
   "file_extension": ".py",
   "mimetype": "text/x-python",
   "name": "python",
   "nbconvert_exporter": "python",
   "pygments_lexer": "ipython3",
   "version": "3.9.12"
  }
 },
 "nbformat": 4,
 "nbformat_minor": 5
}
