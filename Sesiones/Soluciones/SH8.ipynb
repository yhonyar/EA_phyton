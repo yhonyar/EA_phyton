{
 "cells": [
  {
   "cell_type": "markdown",
   "id": "50fd173a",
   "metadata": {},
   "source": [
    "# Tarea 8\n",
    "Importamos las librerias que se usarán"
   ]
  },
  {
   "cell_type": "code",
   "execution_count": 1,
   "id": "2003f4b8",
   "metadata": {},
   "outputs": [],
   "source": [
    "from sklearn.model_selection import train_test_split\n",
    "from sklearn.linear_model import LogisticRegression\n",
    "import pandas as pd"
   ]
  },
  {
   "cell_type": "code",
   "execution_count": 2,
   "id": "f864fdc8",
   "metadata": {},
   "outputs": [
    {
     "data": {
      "text/html": [
       "<div>\n",
       "<style scoped>\n",
       "    .dataframe tbody tr th:only-of-type {\n",
       "        vertical-align: middle;\n",
       "    }\n",
       "\n",
       "    .dataframe tbody tr th {\n",
       "        vertical-align: top;\n",
       "    }\n",
       "\n",
       "    .dataframe thead th {\n",
       "        text-align: right;\n",
       "    }\n",
       "</style>\n",
       "<table border=\"1\" class=\"dataframe\">\n",
       "  <thead>\n",
       "    <tr style=\"text-align: right;\">\n",
       "      <th></th>\n",
       "      <th>id</th>\n",
       "      <th>diagnosis</th>\n",
       "      <th>radius_mean</th>\n",
       "      <th>texture_mean</th>\n",
       "    </tr>\n",
       "  </thead>\n",
       "  <tbody>\n",
       "    <tr>\n",
       "      <th>0</th>\n",
       "      <td>842302</td>\n",
       "      <td>M</td>\n",
       "      <td>17.99</td>\n",
       "      <td>10.38</td>\n",
       "    </tr>\n",
       "    <tr>\n",
       "      <th>1</th>\n",
       "      <td>842517</td>\n",
       "      <td>M</td>\n",
       "      <td>20.57</td>\n",
       "      <td>17.77</td>\n",
       "    </tr>\n",
       "    <tr>\n",
       "      <th>2</th>\n",
       "      <td>84300903</td>\n",
       "      <td>M</td>\n",
       "      <td>19.69</td>\n",
       "      <td>21.25</td>\n",
       "    </tr>\n",
       "    <tr>\n",
       "      <th>3</th>\n",
       "      <td>84348301</td>\n",
       "      <td>M</td>\n",
       "      <td>11.42</td>\n",
       "      <td>20.38</td>\n",
       "    </tr>\n",
       "    <tr>\n",
       "      <th>4</th>\n",
       "      <td>84358402</td>\n",
       "      <td>M</td>\n",
       "      <td>20.29</td>\n",
       "      <td>14.34</td>\n",
       "    </tr>\n",
       "  </tbody>\n",
       "</table>\n",
       "</div>"
      ],
      "text/plain": [
       "         id diagnosis  radius_mean  texture_mean\n",
       "0    842302         M        17.99         10.38\n",
       "1    842517         M        20.57         17.77\n",
       "2  84300903         M        19.69         21.25\n",
       "3  84348301         M        11.42         20.38\n",
       "4  84358402         M        20.29         14.34"
      ]
     },
     "execution_count": 2,
     "metadata": {},
     "output_type": "execute_result"
    }
   ],
   "source": [
    "CM_data = pd.read_csv(\"./data_H8/data.csv\", usecols= [\"id\",\"diagnosis\",\"radius_mean\",\"texture_mean\"])\n",
    "CM_data.head()"
   ]
  },
  {
   "cell_type": "code",
   "execution_count": 3,
   "id": "7b317fe5",
   "metadata": {},
   "outputs": [],
   "source": [
    "CM_data.loc[(CM_data.radius_mean <= 14.1),'radius2']=1\n",
    "CM_data.loc[(CM_data.radius_mean > 14.1),'radius2']=2\n",
    "\n",
    "CM_data.loc[(CM_data.texture_mean <= 19.3),'texture2']=1\n",
    "CM_data.loc[(CM_data.texture_mean > 19.3) ,'texture2']=2"
   ]
  },
  {
   "cell_type": "code",
   "execution_count": 4,
   "id": "df159fae",
   "metadata": {},
   "outputs": [
    {
     "data": {
      "text/plain": [
       "569"
      ]
     },
     "execution_count": 4,
     "metadata": {},
     "output_type": "execute_result"
    }
   ],
   "source": [
    "CM_data.drop(['radius_mean', 'texture_mean', 'id'], axis=1, inplace = True)\n",
    "CM_data.dropna(inplace = True)\n",
    "len(CM_data)"
   ]
  },
  {
   "cell_type": "code",
   "execution_count": 5,
   "id": "7e3c320e",
   "metadata": {},
   "outputs": [],
   "source": [
    "y_data = CM_data['diagnosis']\n",
    "x_data = CM_data.drop('diagnosis', axis = 1)\n",
    "\n",
    "x_training, x_test, y_training, y_test = train_test_split(x_data,y_data, \n",
    "                                                         test_size = 0.2)"
   ]
  },
  {
   "cell_type": "code",
   "execution_count": 6,
   "id": "2387692f",
   "metadata": {},
   "outputs": [
    {
     "name": "stdout",
     "output_type": "stream",
     "text": [
      "     radius2  texture2\n",
      "424      1.0       1.0\n",
      "173      1.0       1.0\n",
      "460      2.0       2.0 ['B' 'B' 'M']\n"
     ]
    }
   ],
   "source": [
    "modelLR = LogisticRegression()\n",
    "modelLR.fit(x_training, y_training)\n",
    "\n",
    "predictions = modelLR.predict(x_test[0:3])\n",
    "print(x_test[0:3],predictions)"
   ]
  },
  {
   "cell_type": "code",
   "execution_count": null,
   "id": "8c849510",
   "metadata": {},
   "outputs": [],
   "source": []
  }
 ],
 "metadata": {
  "kernelspec": {
   "display_name": "Python 3 (ipykernel)",
   "language": "python",
   "name": "python3"
  },
  "language_info": {
   "codemirror_mode": {
    "name": "ipython",
    "version": 3
   },
   "file_extension": ".py",
   "mimetype": "text/x-python",
   "name": "python",
   "nbconvert_exporter": "python",
   "pygments_lexer": "ipython3",
   "version": "3.9.12"
  }
 },
 "nbformat": 4,
 "nbformat_minor": 5
}
