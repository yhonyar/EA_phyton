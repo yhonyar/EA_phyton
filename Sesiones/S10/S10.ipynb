{
 "cells": [
  {
   "cell_type": "markdown",
   "id": "d03a3ecc",
   "metadata": {},
   "source": [
    "# Sesión 10"
   ]
  },
  {
   "cell_type": "code",
   "execution_count": 2,
   "id": "53d50eb3",
   "metadata": {},
   "outputs": [],
   "source": [
    "from pickle import dump\n",
    "from pickle import load"
   ]
  },
  {
   "cell_type": "code",
   "execution_count": 3,
   "id": "73e3c0c3",
   "metadata": {},
   "outputs": [],
   "source": [
    "def guardar_modelo(model,nombre):\n",
    "    output = open(nombre,  'wb')\n",
    "    dump(model,  output, -1)\n",
    "    output.close()"
   ]
  },
  {
   "cell_type": "code",
   "execution_count": 4,
   "id": "7c451507",
   "metadata": {},
   "outputs": [],
   "source": [
    "def cargar_modelo(nombre): \n",
    "    input = open(nombre,  'rb')\n",
    "    modelo = load(input)\n",
    "    input.close()   \n",
    "    return modelo"
   ]
  },
  {
   "cell_type": "code",
   "execution_count": 5,
   "id": "cac966b7",
   "metadata": {},
   "outputs": [
    {
     "ename": "NameError",
     "evalue": "name 'model' is not defined",
     "output_type": "error",
     "traceback": [
      "\u001b[1;31m---------------------------------------------------------------------------\u001b[0m",
      "\u001b[1;31mNameError\u001b[0m                                 Traceback (most recent call last)",
      "Input \u001b[1;32mIn [5]\u001b[0m, in \u001b[0;36m<cell line: 2>\u001b[1;34m()\u001b[0m\n\u001b[0;32m      1\u001b[0m nombre \u001b[38;5;241m=\u001b[39m \u001b[38;5;124m'\u001b[39m\u001b[38;5;124mmodelo.pkl\u001b[39m\u001b[38;5;124m'\u001b[39m\n\u001b[1;32m----> 2\u001b[0m guardar_modelo(\u001b[43mmodel\u001b[49m,nombre)\n",
      "\u001b[1;31mNameError\u001b[0m: name 'model' is not defined"
     ]
    }
   ],
   "source": [
    "nombre = 'modelo.pkl'\n",
    "guardar_modelo(model,nombre)"
   ]
  },
  {
   "cell_type": "code",
   "execution_count": null,
   "id": "e3eecd62",
   "metadata": {},
   "outputs": [],
   "source": []
  }
 ],
 "metadata": {
  "kernelspec": {
   "display_name": "Python 3 (ipykernel)",
   "language": "python",
   "name": "python3"
  },
  "language_info": {
   "codemirror_mode": {
    "name": "ipython",
    "version": 3
   },
   "file_extension": ".py",
   "mimetype": "text/x-python",
   "name": "python",
   "nbconvert_exporter": "python",
   "pygments_lexer": "ipython3",
   "version": "3.9.12"
  }
 },
 "nbformat": 4,
 "nbformat_minor": 5
}
