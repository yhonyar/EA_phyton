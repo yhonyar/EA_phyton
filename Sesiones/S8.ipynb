{
 "cells": [
  {
   "cell_type": "code",
   "execution_count": 1,
   "id": "cb3c6990",
   "metadata": {},
   "outputs": [],
   "source": [
    "from sklearn.model_selection import train_test_split\n",
    "from sklearn.linear_model import LogisticRegression\n",
    "import pandas as pd"
   ]
  },
  {
   "cell_type": "code",
   "execution_count": 2,
   "id": "f18b3311",
   "metadata": {},
   "outputs": [
    {
     "name": "stdout",
     "output_type": "stream",
     "text": [
      "     Pclass  Age2  Sex2\n",
      "41        2   1.0   2.0\n",
      "21        2   1.0   2.0\n",
      "879       1   1.0   2.0 [0 0 1]\n"
     ]
    }
   ],
   "source": [
    "titanic_data = pd.read_csv(\"./Data1/titanic.csv\", usecols= [\"PassengerId\", \"Survived\", \n",
    "                                                    \"Pclass\",\"Sex\",\"Age\"]) \n",
    "titanic_data.loc[titanic_data.Age <= 18,'Age2']=2\n",
    "titanic_data.loc[titanic_data.Age > 18,'Age2']=1\n",
    "titanic_data.loc[titanic_data.Sex == 'male','Sex2']=2\n",
    "titanic_data.loc[titanic_data.Sex == 'female','Sex2']=2\n",
    "\n",
    "titanic_data.drop(['Age', 'Sex', 'PassengerId'], axis=1, inplace = True)\n",
    "titanic_data.dropna(inplace = True)\n",
    "y_data = titanic_data['Survived']\n",
    "x_data = titanic_data.drop('Survived', axis = 1)\n",
    "\n",
    "x_training, x_test, y_training, y_test = train_test_split(x_data,y_data, \n",
    "                                                         test_size = 0.2)\n",
    "\n",
    "modelLR = LogisticRegression()\n",
    "modelLR.fit(x_training, y_training)\n",
    "\n",
    "predictions = modelLR.predict(x_test[0:3])\n",
    "print(x_test[0:3],predictions)"
   ]
  },
  {
   "cell_type": "code",
   "execution_count": null,
   "id": "045cb22e",
   "metadata": {},
   "outputs": [],
   "source": []
  }
 ],
 "metadata": {
  "kernelspec": {
   "display_name": "Python 3 (ipykernel)",
   "language": "python",
   "name": "python3"
  },
  "language_info": {
   "codemirror_mode": {
    "name": "ipython",
    "version": 3
   },
   "file_extension": ".py",
   "mimetype": "text/x-python",
   "name": "python",
   "nbconvert_exporter": "python",
   "pygments_lexer": "ipython3",
   "version": "3.9.12"
  }
 },
 "nbformat": 4,
 "nbformat_minor": 5
}
