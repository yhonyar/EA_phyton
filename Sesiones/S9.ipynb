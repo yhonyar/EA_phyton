{
 "cells": [
  {
   "cell_type": "markdown",
   "id": "7433af0e",
   "metadata": {},
   "source": [
    "# Sesión 9"
   ]
  },
  {
   "cell_type": "code",
   "execution_count": null,
   "id": "8d401bcb",
   "metadata": {},
   "outputs": [],
   "source": [
    "import pandas as pd\n",
    "from sklearn.model_selection import train_test_split\n",
    "from sklearn import svm\n",
    "from sklearn.metrics import classification_report\n",
    "from sklearn.model_selection import GridSearchCV"
   ]
  },
  {
   "cell_type": "markdown",
   "id": "68c6fe2d",
   "metadata": {},
   "source": [
    "Descargamos los datos de https://archive.ics.uci.edu/ml/datasets/Glass+Identification"
   ]
  },
  {
   "cell_type": "markdown",
   "id": "af8ef7d9",
   "metadata": {},
   "source": [
    "### Preparación de datos"
   ]
  },
  {
   "cell_type": "code",
   "execution_count": null,
   "id": "83dab214",
   "metadata": {},
   "outputs": [],
   "source": [
    "glass_data = pd.read_csv(\"./Data2/glass.csv\")\n",
    "glass_data.Type= glass_data.Type.str.replace('\\'','')\n",
    "glass_data.head()"
   ]
  },
  {
   "cell_type": "code",
   "execution_count": null,
   "id": "1caaf638",
   "metadata": {},
   "outputs": [],
   "source": [
    "glass_data.loc[glass_data.Type == 'build wind float','Type']=1\n",
    "glass_data.loc[glass_data.Type == 'build wind non-float','Type']=2\n",
    "glass_data.loc[glass_data.Type == 'vehic wind float','Type']=3\n",
    "glass_data.loc[glass_data.Type == 'containers','Type']=5\n",
    "glass_data.loc[glass_data.Type == 'tableware','Type']=6\n",
    "glass_data.loc[glass_data.Type == 'headlamps','Type']=7\n",
    "glass_data['Type'] = pd.to_numeric(glass_data['Type'])"
   ]
  },
  {
   "cell_type": "code",
   "execution_count": null,
   "id": "690d50da",
   "metadata": {},
   "outputs": [],
   "source": [
    "#glass_data.hist(\"Type\", grid=\"False\")\n",
    "#glass_data.hist(\"RI\", grid=\"False\")\n",
    "#glass_data.hist(\"Na\", grid=\"False\")\n",
    "glass_data.hist(\"K\", grid=\"False\")\n",
    "#glass_data.hist(\"Ca\", grid=\"False\")"
   ]
  },
  {
   "cell_type": "code",
   "execution_count": null,
   "id": "340ef094",
   "metadata": {},
   "outputs": [],
   "source": [
    "print(len(glass_data))\n",
    "glass_data = glass_data.drop(glass_data[glass_data['K']>=2].index)\n",
    "print(len(glass_data))\n",
    "glass_data.hist(\"K\", grid=\"False\")"
   ]
  },
  {
   "cell_type": "code",
   "execution_count": null,
   "id": "3cfebdd8",
   "metadata": {},
   "outputs": [],
   "source": [
    "#glass_data.hist(\"RI\", by=\"Type\", grid=\"False\", layout=[1,6],figsize = [10,3])\n",
    "glass_data.hist(\"Type\", grid=\"False\",figsize = [5,3])"
   ]
  },
  {
   "cell_type": "code",
   "execution_count": null,
   "id": "38e7972c",
   "metadata": {},
   "outputs": [],
   "source": [
    "print(len(glass_data))\n",
    "new_df = glass_data.drop_duplicates()\n",
    "print(len(new_df))\n",
    "new_df = new_df.dropna()\n",
    "print(len(new_df))"
   ]
  },
  {
   "cell_type": "markdown",
   "id": "71b26793",
   "metadata": {},
   "source": [
    "### Entrenamiento"
   ]
  },
  {
   "cell_type": "code",
   "execution_count": null,
   "id": "b2c9e2bd",
   "metadata": {},
   "outputs": [],
   "source": [
    "y_data = glass_data['Type']\n",
    "x_data = glass_data.drop('Type', axis = 1)\n",
    "x_training_data, x_test_data, y_training_data, y_test_data = train_test_split(x_data, y_data, test_size = 0.2)\n",
    "\n",
    "model = svm.SVC()\n",
    "model.fit(x_training_data, y_training_data)\n",
    "\n",
    "predictions = model.predict(x_test_data)\n",
    "report = classification_report(y_test_data, predictions)\n",
    "print(report)"
   ]
  },
  {
   "cell_type": "markdown",
   "id": "5061d4d2",
   "metadata": {},
   "source": [
    "Para más detalle revisar: https://scikit-learn.org/stable/modules/model_evaluation.html#classification-report\n",
    "\n",
    "Para la interpretación revisar: https://blog.exsilio.com/all/accuracy-precision-recall-f1-score-interpretation-of-performance-measures/"
   ]
  },
  {
   "cell_type": "markdown",
   "id": "a81bb6c2",
   "metadata": {},
   "source": [
    "### Hiperparametro"
   ]
  },
  {
   "cell_type": "code",
   "execution_count": null,
   "id": "94acd94c",
   "metadata": {},
   "outputs": [],
   "source": [
    "model1 = svm.SVC()\n",
    "param_grid = {'C': [0.001, 0.01, 0.05, 0.1],\n",
    "              'gamma': [0.001, 0.01, 0.05, 0.1],\n",
    "              'kernel': ['rbf','poly'],\n",
    "              'probability':[True] }\n",
    "\n",
    "gs = GridSearchCV(model1, param_grid=param_grid, scoring='accuracy', refit='accuracy', cv=5, return_train_score=True)\n",
    "gs.fit(x_training_data, y_training_data)\n",
    "modelo = gs.best_estimator_\n",
    "predictions = modelo.predict(x_test_data)\n",
    "report = classification_report(y_test_data, predictions)\n",
    "print(gs.best_estimator_)\n",
    "print(report)"
   ]
  },
  {
   "cell_type": "markdown",
   "id": "0089b2d1",
   "metadata": {},
   "source": [
    "Para más detalle sobre param_grid revisar: https://scikit-learn.org/stable/modules/generated/sklearn.model_selection.ParameterGrid.html\n",
    "\n",
    "https://scikit-learn.org/stable/auto_examples/svm/plot_rbf_parameters.html\n",
    "\n",
    "Explicación del kernel: https://towardsdatascience.com/radial-basis-function-rbf-kernel-the-go-to-kernel-acf0d22c798a\n",
    "\n",
    "https://medium.com/@myselfaman12345/c-and-gamma-in-svm-e6cee48626be"
   ]
  },
  {
   "cell_type": "markdown",
   "id": "3fbca29a",
   "metadata": {},
   "source": [
    "Referencias:\n",
    "\n",
    "- chrome-extension://efaidnbmnnnibpcajpcglclefindmkaj/http://www.davidpublisher.com/Public/uploads/Contribute/56f9de9b67f83.pdf"
   ]
  },
  {
   "cell_type": "code",
   "execution_count": null,
   "id": "f17725b9",
   "metadata": {},
   "outputs": [],
   "source": []
  }
 ],
 "metadata": {
  "kernelspec": {
   "display_name": "Python 3 (ipykernel)",
   "language": "python",
   "name": "python3"
  },
  "language_info": {
   "codemirror_mode": {
    "name": "ipython",
    "version": 3
   },
   "file_extension": ".py",
   "mimetype": "text/x-python",
   "name": "python",
   "nbconvert_exporter": "python",
   "pygments_lexer": "ipython3",
   "version": "3.9.12"
  }
 },
 "nbformat": 4,
 "nbformat_minor": 5
}
